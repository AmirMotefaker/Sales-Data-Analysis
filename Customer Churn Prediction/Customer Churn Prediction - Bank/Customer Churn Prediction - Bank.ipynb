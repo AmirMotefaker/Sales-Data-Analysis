{
 "cells": [
  {
   "cell_type": "markdown",
   "id": "c045f562",
   "metadata": {},
   "source": [
    "## Customer Churn Prediction - Bank"
   ]
  },
  {
   "cell_type": "markdown",
   "id": "e322ead0",
   "metadata": {},
   "source": [
    "### Import Libraries"
   ]
  },
  {
   "cell_type": "code",
   "execution_count": 1,
   "id": "745ac05c",
   "metadata": {},
   "outputs": [],
   "source": [
    "import pandas as pd\n",
    "import numpy as np\n",
    "import matplotlib.pyplot as plt\n",
    "import seaborn as sns\n",
    "from sklearn.preprocessing import LabelEncoder, OneHotEncoder, StandardScaler\n",
    "from sklearn.feature_selection import RFE\n",
    "from sklearn.linear_model import LogisticRegression\n",
    "from sklearn.svm import SVC\n",
    "from sklearn.decomposition import PCA\n",
    "from sklearn.tree import DecisionTreeClassifier, export_graphviz\n",
    "from sklearn.pipeline import Pipeline\n",
    "from sklearn.model_selection import train_test_split\n",
    "from lightgbm import LGBMClassifier\n",
    "from sklearn.metrics import roc_auc_score, recall_score, confusion_matrix, classification_report \n",
    "import subprocess\n",
    "import joblib\n",
    "# Get multiple outputs in the same cell\n",
    "from IPython.core.interactiveshell import InteractiveShell\n",
    "InteractiveShell.ast_node_interactivity = \"all\"\n",
    "# Ignore all warnings\n",
    "import warnings\n",
    "warnings.filterwarnings('ignore')\n",
    "warnings.filterwarnings(action='ignore', category=DeprecationWarning)\n",
    "pd.set_option('display.max_columns', None)\n",
    "pd.set_option('display.max_rows', None)"
   ]
  },
  {
   "cell_type": "markdown",
   "id": "ded6a1df",
   "metadata": {},
   "source": [
    "### Reading the DataSet"
   ]
  },
  {
   "cell_type": "code",
   "execution_count": 2,
   "id": "f5ddf7dd",
   "metadata": {},
   "outputs": [],
   "source": [
    "dc = pd.read_csv(\"E:/AMotefaker/ABC/Data Analyst/Sales Data Analysis/Customer Churn Prediction - Bank/Churn_Modelling.csv\") "
   ]
  },
  {
   "cell_type": "code",
   "execution_count": 3,
   "id": "32457f47",
   "metadata": {},
   "outputs": [
    {
     "data": {
      "text/html": [
       "<div>\n",
       "<style scoped>\n",
       "    .dataframe tbody tr th:only-of-type {\n",
       "        vertical-align: middle;\n",
       "    }\n",
       "\n",
       "    .dataframe tbody tr th {\n",
       "        vertical-align: top;\n",
       "    }\n",
       "\n",
       "    .dataframe thead th {\n",
       "        text-align: right;\n",
       "    }\n",
       "</style>\n",
       "<table border=\"1\" class=\"dataframe\">\n",
       "  <thead>\n",
       "    <tr style=\"text-align: right;\">\n",
       "      <th></th>\n",
       "      <th>RowNumber</th>\n",
       "      <th>CustomerId</th>\n",
       "      <th>Surname</th>\n",
       "      <th>CreditScore</th>\n",
       "      <th>Geography</th>\n",
       "      <th>Gender</th>\n",
       "      <th>Age</th>\n",
       "      <th>Tenure</th>\n",
       "      <th>Balance</th>\n",
       "      <th>NumOfProducts</th>\n",
       "      <th>HasCrCard</th>\n",
       "      <th>IsActiveMember</th>\n",
       "      <th>EstimatedSalary</th>\n",
       "      <th>Exited</th>\n",
       "    </tr>\n",
       "  </thead>\n",
       "  <tbody>\n",
       "    <tr>\n",
       "      <th>0</th>\n",
       "      <td>1</td>\n",
       "      <td>15634602</td>\n",
       "      <td>Hargrave</td>\n",
       "      <td>619</td>\n",
       "      <td>France</td>\n",
       "      <td>Female</td>\n",
       "      <td>42</td>\n",
       "      <td>2</td>\n",
       "      <td>0.00</td>\n",
       "      <td>1</td>\n",
       "      <td>1</td>\n",
       "      <td>1</td>\n",
       "      <td>101348.88</td>\n",
       "      <td>1</td>\n",
       "    </tr>\n",
       "    <tr>\n",
       "      <th>1</th>\n",
       "      <td>2</td>\n",
       "      <td>15647311</td>\n",
       "      <td>Hill</td>\n",
       "      <td>608</td>\n",
       "      <td>Spain</td>\n",
       "      <td>Female</td>\n",
       "      <td>41</td>\n",
       "      <td>1</td>\n",
       "      <td>83807.86</td>\n",
       "      <td>1</td>\n",
       "      <td>0</td>\n",
       "      <td>1</td>\n",
       "      <td>112542.58</td>\n",
       "      <td>0</td>\n",
       "    </tr>\n",
       "    <tr>\n",
       "      <th>2</th>\n",
       "      <td>3</td>\n",
       "      <td>15619304</td>\n",
       "      <td>Onio</td>\n",
       "      <td>502</td>\n",
       "      <td>France</td>\n",
       "      <td>Female</td>\n",
       "      <td>42</td>\n",
       "      <td>8</td>\n",
       "      <td>159660.80</td>\n",
       "      <td>3</td>\n",
       "      <td>1</td>\n",
       "      <td>0</td>\n",
       "      <td>113931.57</td>\n",
       "      <td>1</td>\n",
       "    </tr>\n",
       "    <tr>\n",
       "      <th>3</th>\n",
       "      <td>4</td>\n",
       "      <td>15701354</td>\n",
       "      <td>Boni</td>\n",
       "      <td>699</td>\n",
       "      <td>France</td>\n",
       "      <td>Female</td>\n",
       "      <td>39</td>\n",
       "      <td>1</td>\n",
       "      <td>0.00</td>\n",
       "      <td>2</td>\n",
       "      <td>0</td>\n",
       "      <td>0</td>\n",
       "      <td>93826.63</td>\n",
       "      <td>0</td>\n",
       "    </tr>\n",
       "    <tr>\n",
       "      <th>4</th>\n",
       "      <td>5</td>\n",
       "      <td>15737888</td>\n",
       "      <td>Mitchell</td>\n",
       "      <td>850</td>\n",
       "      <td>Spain</td>\n",
       "      <td>Female</td>\n",
       "      <td>43</td>\n",
       "      <td>2</td>\n",
       "      <td>125510.82</td>\n",
       "      <td>1</td>\n",
       "      <td>1</td>\n",
       "      <td>1</td>\n",
       "      <td>79084.10</td>\n",
       "      <td>0</td>\n",
       "    </tr>\n",
       "  </tbody>\n",
       "</table>\n",
       "</div>"
      ],
      "text/plain": [
       "   RowNumber  CustomerId   Surname  CreditScore Geography  Gender  Age  \\\n",
       "0          1    15634602  Hargrave          619    France  Female   42   \n",
       "1          2    15647311      Hill          608     Spain  Female   41   \n",
       "2          3    15619304      Onio          502    France  Female   42   \n",
       "3          4    15701354      Boni          699    France  Female   39   \n",
       "4          5    15737888  Mitchell          850     Spain  Female   43   \n",
       "\n",
       "   Tenure    Balance  NumOfProducts  HasCrCard  IsActiveMember  \\\n",
       "0       2       0.00              1          1               1   \n",
       "1       1   83807.86              1          0               1   \n",
       "2       8  159660.80              3          1               0   \n",
       "3       1       0.00              2          0               0   \n",
       "4       2  125510.82              1          1               1   \n",
       "\n",
       "   EstimatedSalary  Exited  \n",
       "0        101348.88       1  \n",
       "1        112542.58       0  \n",
       "2        113931.57       1  \n",
       "3         93826.63       0  \n",
       "4         79084.10       0  "
      ]
     },
     "execution_count": 3,
     "metadata": {},
     "output_type": "execute_result"
    }
   ],
   "source": [
    "dc.head(5) "
   ]
  },
  {
   "cell_type": "markdown",
   "id": "6562f1b4",
   "metadata": {},
   "source": [
    "### Exploratory Data Analysis"
   ]
  },
  {
   "cell_type": "code",
   "execution_count": 4,
   "id": "78b763a6",
   "metadata": {},
   "outputs": [
    {
     "data": {
      "text/plain": [
       "(10000, 14)"
      ]
     },
     "execution_count": 4,
     "metadata": {},
     "output_type": "execute_result"
    }
   ],
   "source": [
    "# Dimension of the dataset\n",
    "dc.shape"
   ]
  },
  {
   "cell_type": "code",
   "execution_count": 5,
   "id": "eac9bbef",
   "metadata": {},
   "outputs": [
    {
     "data": {
      "text/html": [
       "<div>\n",
       "<style scoped>\n",
       "    .dataframe tbody tr th:only-of-type {\n",
       "        vertical-align: middle;\n",
       "    }\n",
       "\n",
       "    .dataframe tbody tr th {\n",
       "        vertical-align: top;\n",
       "    }\n",
       "\n",
       "    .dataframe thead th {\n",
       "        text-align: right;\n",
       "    }\n",
       "</style>\n",
       "<table border=\"1\" class=\"dataframe\">\n",
       "  <thead>\n",
       "    <tr style=\"text-align: right;\">\n",
       "      <th></th>\n",
       "      <th>RowNumber</th>\n",
       "      <th>CustomerId</th>\n",
       "      <th>CreditScore</th>\n",
       "      <th>Age</th>\n",
       "      <th>Tenure</th>\n",
       "      <th>Balance</th>\n",
       "      <th>NumOfProducts</th>\n",
       "      <th>HasCrCard</th>\n",
       "      <th>IsActiveMember</th>\n",
       "      <th>EstimatedSalary</th>\n",
       "      <th>Exited</th>\n",
       "    </tr>\n",
       "  </thead>\n",
       "  <tbody>\n",
       "    <tr>\n",
       "      <th>count</th>\n",
       "      <td>10000.00000</td>\n",
       "      <td>1.000000e+04</td>\n",
       "      <td>10000.000000</td>\n",
       "      <td>10000.000000</td>\n",
       "      <td>10000.000000</td>\n",
       "      <td>10000.000000</td>\n",
       "      <td>10000.000000</td>\n",
       "      <td>10000.00000</td>\n",
       "      <td>10000.000000</td>\n",
       "      <td>10000.000000</td>\n",
       "      <td>10000.000000</td>\n",
       "    </tr>\n",
       "    <tr>\n",
       "      <th>mean</th>\n",
       "      <td>5000.50000</td>\n",
       "      <td>1.569094e+07</td>\n",
       "      <td>650.528800</td>\n",
       "      <td>38.921800</td>\n",
       "      <td>5.012800</td>\n",
       "      <td>76485.889288</td>\n",
       "      <td>1.530200</td>\n",
       "      <td>0.70550</td>\n",
       "      <td>0.515100</td>\n",
       "      <td>100090.239881</td>\n",
       "      <td>0.203700</td>\n",
       "    </tr>\n",
       "    <tr>\n",
       "      <th>std</th>\n",
       "      <td>2886.89568</td>\n",
       "      <td>7.193619e+04</td>\n",
       "      <td>96.653299</td>\n",
       "      <td>10.487806</td>\n",
       "      <td>2.892174</td>\n",
       "      <td>62397.405202</td>\n",
       "      <td>0.581654</td>\n",
       "      <td>0.45584</td>\n",
       "      <td>0.499797</td>\n",
       "      <td>57510.492818</td>\n",
       "      <td>0.402769</td>\n",
       "    </tr>\n",
       "    <tr>\n",
       "      <th>min</th>\n",
       "      <td>1.00000</td>\n",
       "      <td>1.556570e+07</td>\n",
       "      <td>350.000000</td>\n",
       "      <td>18.000000</td>\n",
       "      <td>0.000000</td>\n",
       "      <td>0.000000</td>\n",
       "      <td>1.000000</td>\n",
       "      <td>0.00000</td>\n",
       "      <td>0.000000</td>\n",
       "      <td>11.580000</td>\n",
       "      <td>0.000000</td>\n",
       "    </tr>\n",
       "    <tr>\n",
       "      <th>25%</th>\n",
       "      <td>2500.75000</td>\n",
       "      <td>1.562853e+07</td>\n",
       "      <td>584.000000</td>\n",
       "      <td>32.000000</td>\n",
       "      <td>3.000000</td>\n",
       "      <td>0.000000</td>\n",
       "      <td>1.000000</td>\n",
       "      <td>0.00000</td>\n",
       "      <td>0.000000</td>\n",
       "      <td>51002.110000</td>\n",
       "      <td>0.000000</td>\n",
       "    </tr>\n",
       "    <tr>\n",
       "      <th>50%</th>\n",
       "      <td>5000.50000</td>\n",
       "      <td>1.569074e+07</td>\n",
       "      <td>652.000000</td>\n",
       "      <td>37.000000</td>\n",
       "      <td>5.000000</td>\n",
       "      <td>97198.540000</td>\n",
       "      <td>1.000000</td>\n",
       "      <td>1.00000</td>\n",
       "      <td>1.000000</td>\n",
       "      <td>100193.915000</td>\n",
       "      <td>0.000000</td>\n",
       "    </tr>\n",
       "    <tr>\n",
       "      <th>75%</th>\n",
       "      <td>7500.25000</td>\n",
       "      <td>1.575323e+07</td>\n",
       "      <td>718.000000</td>\n",
       "      <td>44.000000</td>\n",
       "      <td>7.000000</td>\n",
       "      <td>127644.240000</td>\n",
       "      <td>2.000000</td>\n",
       "      <td>1.00000</td>\n",
       "      <td>1.000000</td>\n",
       "      <td>149388.247500</td>\n",
       "      <td>0.000000</td>\n",
       "    </tr>\n",
       "    <tr>\n",
       "      <th>max</th>\n",
       "      <td>10000.00000</td>\n",
       "      <td>1.581569e+07</td>\n",
       "      <td>850.000000</td>\n",
       "      <td>92.000000</td>\n",
       "      <td>10.000000</td>\n",
       "      <td>250898.090000</td>\n",
       "      <td>4.000000</td>\n",
       "      <td>1.00000</td>\n",
       "      <td>1.000000</td>\n",
       "      <td>199992.480000</td>\n",
       "      <td>1.000000</td>\n",
       "    </tr>\n",
       "  </tbody>\n",
       "</table>\n",
       "</div>"
      ],
      "text/plain": [
       "         RowNumber    CustomerId   CreditScore           Age        Tenure  \\\n",
       "count  10000.00000  1.000000e+04  10000.000000  10000.000000  10000.000000   \n",
       "mean    5000.50000  1.569094e+07    650.528800     38.921800      5.012800   \n",
       "std     2886.89568  7.193619e+04     96.653299     10.487806      2.892174   \n",
       "min        1.00000  1.556570e+07    350.000000     18.000000      0.000000   \n",
       "25%     2500.75000  1.562853e+07    584.000000     32.000000      3.000000   \n",
       "50%     5000.50000  1.569074e+07    652.000000     37.000000      5.000000   \n",
       "75%     7500.25000  1.575323e+07    718.000000     44.000000      7.000000   \n",
       "max    10000.00000  1.581569e+07    850.000000     92.000000     10.000000   \n",
       "\n",
       "             Balance  NumOfProducts    HasCrCard  IsActiveMember  \\\n",
       "count   10000.000000   10000.000000  10000.00000    10000.000000   \n",
       "mean    76485.889288       1.530200      0.70550        0.515100   \n",
       "std     62397.405202       0.581654      0.45584        0.499797   \n",
       "min         0.000000       1.000000      0.00000        0.000000   \n",
       "25%         0.000000       1.000000      0.00000        0.000000   \n",
       "50%     97198.540000       1.000000      1.00000        1.000000   \n",
       "75%    127644.240000       2.000000      1.00000        1.000000   \n",
       "max    250898.090000       4.000000      1.00000        1.000000   \n",
       "\n",
       "       EstimatedSalary        Exited  \n",
       "count     10000.000000  10000.000000  \n",
       "mean     100090.239881      0.203700  \n",
       "std       57510.492818      0.402769  \n",
       "min          11.580000      0.000000  \n",
       "25%       51002.110000      0.000000  \n",
       "50%      100193.915000      0.000000  \n",
       "75%      149388.247500      0.000000  \n",
       "max      199992.480000      1.000000  "
      ]
     },
     "execution_count": 5,
     "metadata": {},
     "output_type": "execute_result"
    }
   ],
   "source": [
    "# Describe all numerical columns\n",
    "dc.describe(exclude= ['O'])"
   ]
  },
  {
   "cell_type": "code",
   "execution_count": 6,
   "id": "e1ccbf98",
   "metadata": {},
   "outputs": [
    {
     "data": {
      "text/html": [
       "<div>\n",
       "<style scoped>\n",
       "    .dataframe tbody tr th:only-of-type {\n",
       "        vertical-align: middle;\n",
       "    }\n",
       "\n",
       "    .dataframe tbody tr th {\n",
       "        vertical-align: top;\n",
       "    }\n",
       "\n",
       "    .dataframe thead th {\n",
       "        text-align: right;\n",
       "    }\n",
       "</style>\n",
       "<table border=\"1\" class=\"dataframe\">\n",
       "  <thead>\n",
       "    <tr style=\"text-align: right;\">\n",
       "      <th></th>\n",
       "      <th>Surname</th>\n",
       "      <th>Geography</th>\n",
       "      <th>Gender</th>\n",
       "    </tr>\n",
       "  </thead>\n",
       "  <tbody>\n",
       "    <tr>\n",
       "      <th>count</th>\n",
       "      <td>10000</td>\n",
       "      <td>10000</td>\n",
       "      <td>10000</td>\n",
       "    </tr>\n",
       "    <tr>\n",
       "      <th>unique</th>\n",
       "      <td>2932</td>\n",
       "      <td>3</td>\n",
       "      <td>2</td>\n",
       "    </tr>\n",
       "    <tr>\n",
       "      <th>top</th>\n",
       "      <td>Smith</td>\n",
       "      <td>France</td>\n",
       "      <td>Male</td>\n",
       "    </tr>\n",
       "    <tr>\n",
       "      <th>freq</th>\n",
       "      <td>32</td>\n",
       "      <td>5014</td>\n",
       "      <td>5457</td>\n",
       "    </tr>\n",
       "  </tbody>\n",
       "</table>\n",
       "</div>"
      ],
      "text/plain": [
       "       Surname Geography Gender\n",
       "count    10000     10000  10000\n",
       "unique    2932         3      2\n",
       "top      Smith    France   Male\n",
       "freq        32      5014   5457"
      ]
     },
     "execution_count": 6,
     "metadata": {},
     "output_type": "execute_result"
    }
   ],
   "source": [
    "# Describe all categorical columns\n",
    "dc.describe(include = ['O'])"
   ]
  },
  {
   "cell_type": "code",
   "execution_count": 7,
   "id": "eb1a07e9",
   "metadata": {},
   "outputs": [
    {
     "data": {
      "text/plain": [
       "(10000, 10000)"
      ]
     },
     "execution_count": 7,
     "metadata": {},
     "output_type": "execute_result"
    }
   ],
   "source": [
    "# Checking number of unique customers in the dataset\n",
    "dc.shape[0], dc.CustomerId.nunique()"
   ]
  },
  {
   "cell_type": "markdown",
   "id": "e758eb15",
   "metadata": {},
   "source": [
    "- This means each row corresponds to a customer."
   ]
  },
  {
   "cell_type": "code",
   "execution_count": 8,
   "id": "954061b4",
   "metadata": {},
   "outputs": [
    {
     "data": {
      "text/plain": [
       "0    7963\n",
       "1    2037\n",
       "Name: Exited, dtype: int64"
      ]
     },
     "execution_count": 8,
     "metadata": {},
     "output_type": "execute_result"
    }
   ],
   "source": [
    "# churn value Distribution\n",
    "dc[\"Exited\"].value_counts()"
   ]
  },
  {
   "cell_type": "markdown",
   "id": "60f2cc46",
   "metadata": {},
   "source": [
    "- The data set is imbalanced from the above result, with a significant chunk of existing customers relative to their churned peers."
   ]
  },
  {
   "cell_type": "markdown",
   "id": "a98642b7",
   "metadata": {},
   "source": [
    "#### Group by Surname to see the average churn value:"
   ]
  },
  {
   "cell_type": "code",
   "execution_count": 9,
   "id": "e4713d9e",
   "metadata": {},
   "outputs": [
    {
     "data": {
      "text/html": [
       "<div>\n",
       "<style scoped>\n",
       "    .dataframe tbody tr th:only-of-type {\n",
       "        vertical-align: middle;\n",
       "    }\n",
       "\n",
       "    .dataframe tbody tr th {\n",
       "        vertical-align: top;\n",
       "    }\n",
       "\n",
       "    .dataframe thead th {\n",
       "        text-align: right;\n",
       "    }\n",
       "</style>\n",
       "<table border=\"1\" class=\"dataframe\">\n",
       "  <thead>\n",
       "    <tr style=\"text-align: right;\">\n",
       "      <th></th>\n",
       "      <th>Surname</th>\n",
       "      <th>RowNumber</th>\n",
       "      <th>Exited</th>\n",
       "    </tr>\n",
       "  </thead>\n",
       "  <tbody>\n",
       "    <tr>\n",
       "      <th>2473</th>\n",
       "      <td>Smith</td>\n",
       "      <td>32</td>\n",
       "      <td>0.281250</td>\n",
       "    </tr>\n",
       "    <tr>\n",
       "      <th>1689</th>\n",
       "      <td>Martin</td>\n",
       "      <td>29</td>\n",
       "      <td>0.310345</td>\n",
       "    </tr>\n",
       "    <tr>\n",
       "      <th>2389</th>\n",
       "      <td>Scott</td>\n",
       "      <td>29</td>\n",
       "      <td>0.103448</td>\n",
       "    </tr>\n",
       "    <tr>\n",
       "      <th>2751</th>\n",
       "      <td>Walker</td>\n",
       "      <td>28</td>\n",
       "      <td>0.142857</td>\n",
       "    </tr>\n",
       "    <tr>\n",
       "      <th>336</th>\n",
       "      <td>Brown</td>\n",
       "      <td>26</td>\n",
       "      <td>0.192308</td>\n",
       "    </tr>\n",
       "  </tbody>\n",
       "</table>\n",
       "</div>"
      ],
      "text/plain": [
       "     Surname  RowNumber    Exited\n",
       "2473   Smith         32  0.281250\n",
       "1689  Martin         29  0.310345\n",
       "2389   Scott         29  0.103448\n",
       "2751  Walker         28  0.142857\n",
       "336    Brown         26  0.192308"
      ]
     },
     "execution_count": 9,
     "metadata": {},
     "output_type": "execute_result"
    }
   ],
   "source": [
    "dc.groupby(['Surname']).agg({'RowNumber':'count', 'Exited':'mean'}\n",
    "                                  ).reset_index().sort_values(by='RowNumber', ascending=False).head()"
   ]
  },
  {
   "cell_type": "markdown",
   "id": "43173640",
   "metadata": {},
   "source": [
    "#### Group by Geography:"
   ]
  },
  {
   "cell_type": "code",
   "execution_count": 10,
   "id": "35be0862",
   "metadata": {},
   "outputs": [
    {
     "data": {
      "text/html": [
       "<div>\n",
       "<style scoped>\n",
       "    .dataframe tbody tr th:only-of-type {\n",
       "        vertical-align: middle;\n",
       "    }\n",
       "\n",
       "    .dataframe tbody tr th {\n",
       "        vertical-align: top;\n",
       "    }\n",
       "\n",
       "    .dataframe thead th {\n",
       "        text-align: right;\n",
       "    }\n",
       "</style>\n",
       "<table border=\"1\" class=\"dataframe\">\n",
       "  <thead>\n",
       "    <tr style=\"text-align: right;\">\n",
       "      <th></th>\n",
       "      <th>Geography</th>\n",
       "      <th>RowNumber</th>\n",
       "      <th>Exited</th>\n",
       "    </tr>\n",
       "  </thead>\n",
       "  <tbody>\n",
       "    <tr>\n",
       "      <th>0</th>\n",
       "      <td>France</td>\n",
       "      <td>5014</td>\n",
       "      <td>0.161548</td>\n",
       "    </tr>\n",
       "    <tr>\n",
       "      <th>1</th>\n",
       "      <td>Germany</td>\n",
       "      <td>2509</td>\n",
       "      <td>0.324432</td>\n",
       "    </tr>\n",
       "    <tr>\n",
       "      <th>2</th>\n",
       "      <td>Spain</td>\n",
       "      <td>2477</td>\n",
       "      <td>0.166734</td>\n",
       "    </tr>\n",
       "  </tbody>\n",
       "</table>\n",
       "</div>"
      ],
      "text/plain": [
       "  Geography  RowNumber    Exited\n",
       "0    France       5014  0.161548\n",
       "1   Germany       2509  0.324432\n",
       "2     Spain       2477  0.166734"
      ]
     },
     "execution_count": 10,
     "metadata": {},
     "output_type": "execute_result"
    }
   ],
   "source": [
    "dc.groupby(['Geography']).agg({'RowNumber':'count', 'Exited':'mean'}\n",
    "                                  ).reset_index().sort_values(by='RowNumber', ascending=False)"
   ]
  },
  {
   "cell_type": "markdown",
   "id": "b7396105",
   "metadata": {},
   "source": [
    "- From what we see above, customers from \"Germany\" have a higher exiting rate than average."
   ]
  },
  {
   "cell_type": "markdown",
   "id": "e41857e0",
   "metadata": {},
   "source": [
    "#### Univariate Plots of Numerical Variables"
   ]
  },
  {
   "cell_type": "code",
   "execution_count": 11,
   "id": "a77fd493",
   "metadata": {},
   "outputs": [
    {
     "data": {
      "text/plain": [
       "<AxesSubplot: ylabel='CreditScore'>"
      ]
     },
     "execution_count": 11,
     "metadata": {},
     "output_type": "execute_result"
    },
    {
     "data": {
      "image/png": "[encoded data removed]",
      "text/plain": [
       "<Figure size 640x480 with 1 Axes>"
      ]
     },
     "metadata": {},
     "output_type": "display_data"
    }
   ],
   "source": [
    "# Plotting CreditScore\n",
    "sns.set(style=\"whitegrid\")\n",
    "sns.boxplot(y=dc['CreditScore'])"
   ]
  },
  {
   "cell_type": "code",
   "execution_count": 12,
   "id": "c0b22c48",
   "metadata": {},
   "outputs": [
    {
     "data": {
      "text/plain": [
       "<AxesSubplot: ylabel='Age'>"
      ]
     },
     "execution_count": 12,
     "metadata": {},
     "output_type": "execute_result"
    },
    {
     "data": {
      "image/png": "[encoded data removed]",
      "text/plain": [
       "<Figure size 640x480 with 1 Axes>"
      ]
     },
     "metadata": {},
     "output_type": "display_data"
    }
   ],
   "source": [
    "# Plotting Age\n",
    "sns.boxplot(y=dc['Age'])"
   ]
  },
  {
   "cell_type": "code",
   "execution_count": 13,
   "id": "38cc96cd",
   "metadata": {},
   "outputs": [
    {
     "data": {
      "text/plain": [
       "<AxesSubplot: ylabel='Tenure'>"
      ]
     },
     "execution_count": 13,
     "metadata": {},
     "output_type": "execute_result"
    },
    {
     "data": {
      "image/png": "[encoded data removed]",
      "text/plain": [
       "<Figure size 640x480 with 1 Axes>"
      ]
     },
     "metadata": {},
     "output_type": "display_data"
    }
   ],
   "source": [
    "# Tenure violin plot\n",
    "sns.violinplot(y = dc.Tenure)"
   ]
  },
  {
   "cell_type": "code",
   "execution_count": 14,
   "id": "c861da93",
   "metadata": {},
   "outputs": [
    {
     "data": {
      "text/plain": [
       "<AxesSubplot: ylabel='Balance'>"
      ]
     },
     "execution_count": 14,
     "metadata": {},
     "output_type": "execute_result"
    },
    {
     "data": {
      "image/png": "[encoded data removed]",
      "text/plain": [
       "<Figure size 640x480 with 1 Axes>"
      ]
     },
     "metadata": {},
     "output_type": "display_data"
    }
   ],
   "source": [
    "# Balance violin plot\n",
    "sns.violinplot(y = dc['Balance'])"
   ]
  },
  {
   "cell_type": "code",
   "execution_count": 15,
   "id": "b58a9bf4",
   "metadata": {},
   "outputs": [
    {
     "data": {
      "text/plain": [
       "<AxesSubplot: xlabel='NumOfProducts'>"
      ]
     },
     "execution_count": 15,
     "metadata": {},
     "output_type": "execute_result"
    },
    {
     "data": {
      "image/png": "[encoded data removed]",
      "text/plain": [
       "<Figure size 640x480 with 1 Axes>"
      ]
     },
     "metadata": {},
     "output_type": "display_data"
    }
   ],
   "source": [
    "# Plotting a distribution plot of NumOfProducts\n",
    "sns.set(style = 'ticks')\n",
    "sns.distplot(dc.NumOfProducts, hist=True, kde=False)"
   ]
  },
  {
   "cell_type": "markdown",
   "id": "3aa14c24",
   "metadata": {},
   "source": [
    "- Most of the customers have 1 or 2 products."
   ]
  },
  {
   "cell_type": "code",
   "execution_count": 16,
   "id": "9e6ddebe",
   "metadata": {},
   "outputs": [
    {
     "data": {
      "text/plain": [
       "<AxesSubplot: xlabel='EstimatedSalary', ylabel='Density'>"
      ]
     },
     "execution_count": 16,
     "metadata": {},
     "output_type": "execute_result"
    },
    {
     "data": {
      "image/png": "[encoded data removed]",
      "text/plain": [
       "<Figure size 640x480 with 1 Axes>"
      ]
     },
     "metadata": {},
     "output_type": "display_data"
    }
   ],
   "source": [
    "# Kernel density estimation plot for EstimatedSalary\n",
    "# When dealing with numerical characteristics, one of the most useful statistics to examine is the data distribution.\n",
    "# we can use Kernel-Density-Estimation plot for that purpose. \n",
    "sns.kdeplot(dc.EstimatedSalary)"
   ]
  },
  {
   "cell_type": "markdown",
   "id": "499653b0",
   "metadata": {},
   "source": [
    "### Data Preprocessing"
   ]
  },
  {
   "cell_type": "markdown",
   "id": "8671957e",
   "metadata": {},
   "source": [
    "Tips:\n",
    "\n",
    "- We will discard the RowNumber column.\n",
    "- We will discard CustomerID as well since it doesn't convey any extra info. Each row pertains to a unique customer.\n",
    "- Features can be segregated into non-essential, numerical, categorical, and target variables based on the above.\n",
    "- CustomerID is a handy feature based on which we can calculate many user-centric features."
   ]
  },
  {
   "cell_type": "code",
   "execution_count": 17,
   "id": "972e531f",
   "metadata": {},
   "outputs": [],
   "source": [
    "# Separating out different columns into various categories as defined above\n",
    "target_var = ['Exited']\n",
    "cols_to_remove = ['RowNumber', 'CustomerId']\n",
    "# numerical columns\n",
    "num_feats = ['CreditScore', 'Age', 'Tenure', 'Balance', 'NumOfProducts', 'EstimatedSalary']\n",
    "# categorical columns\n",
    "cat_feats = ['Surname', 'Geography', 'Gender', 'HasCrCard', 'IsActiveMember']"
   ]
  },
  {
   "cell_type": "markdown",
   "id": "6effd59a",
   "metadata": {},
   "source": [
    "- Tenure and NumOfProducts are ordinal variables. \n",
    "- HasCrCard and IsActiveMember are binary categorical variables."
   ]
  },
  {
   "cell_type": "code",
   "execution_count": 18,
   "id": "59a879bc",
   "metadata": {},
   "outputs": [],
   "source": [
    "# Separating target variable and removing the non-essential columns\n",
    "y = dc[target_var].values\n",
    "dc.drop(cols_to_remove, axis=1, inplace=True)"
   ]
  },
  {
   "cell_type": "markdown",
   "id": "69bbc372",
   "metadata": {},
   "source": [
    "### Splitting Dataset"
   ]
  },
  {
   "cell_type": "markdown",
   "id": "ab185d85",
   "metadata": {},
   "source": [
    "- We keep aside a test set to evaluate our model at the very end to estimate our chosen model's performance on unseen data.\n",
    "- A validation set is also created, which we'll use in our baseline models to evaluate and tune our models."
   ]
  },
  {
   "cell_type": "code",
   "execution_count": 19,
   "id": "428ce6d9",
   "metadata": {},
   "outputs": [
    {
     "data": {
      "text/plain": [
       "((7920, 12), (1080, 12), (1000, 12), (7920,), (1080,), (1000,))"
      ]
     },
     "execution_count": 19,
     "metadata": {},
     "output_type": "execute_result"
    },
    {
     "data": {
      "text/plain": [
       "(0.20303030303030303, 0.22037037037037038, 0.191)"
      ]
     },
     "execution_count": 19,
     "metadata": {},
     "output_type": "execute_result"
    }
   ],
   "source": [
    "# Keeping aside a test/holdout set\n",
    "dc_train_val, dc_test, y_train_val, y_test = train_test_split(dc, y.ravel(), test_size = 0.1, random_state = 42)\n",
    "\n",
    "# Splitting into train and validation set\n",
    "dc_train, dc_val, y_train, y_val = train_test_split(dc_train_val, y_train_val, test_size = 0.12, random_state = 42)\n",
    "dc_train.shape, dc_val.shape, dc_test.shape, y_train.shape, y_val.shape, y_test.shape\n",
    "np.mean(y_train), np.mean(y_val), np.mean(y_test)"
   ]
  },
  {
   "cell_type": "markdown",
   "id": "adcb32b9",
   "metadata": {},
   "source": [
    "### Categorical Variable Encoding\n",
    "\n",
    "- 1- Label Encoding: transforms non-numerical labels into numerical ones. It can be used for binary categorical and ordinal variables.\n",
    "\n",
    "- 2- One-Hot encoding: encodes categorical features as a one-hot numeric array. It can be used for non-ordinal categorical variables with low to mid cardinality (< 5-10 levels)\n",
    "\n",
    "- 3- Target encoding: the technique of substituting a categorical value with the mean of the target variable is known as target encoding. The target encoder model automatically removes any non-categorical columns. It can be used for Categorical variables with > 10 levels\n",
    "\n",
    "\n",
    "- HasCrCard and IsActiveMember are already label encoded.\n",
    "- Gender, a simple label encoding should be acceptable.\n",
    "- Geography, since there are three levels, one-hot encoding should do the trick.\n",
    "- Surname, we'll try target/frequency encoding."
   ]
  },
  {
   "cell_type": "markdown",
   "id": "075f0913",
   "metadata": {},
   "source": [
    "### 1- Label Encoding"
   ]
  },
  {
   "cell_type": "markdown",
   "id": "baed861a",
   "metadata": {},
   "source": [
    "#### Label Encoding for Binary Variables\n",
    "- Label encoding on the Gender column."
   ]
  },
  {
   "cell_type": "code",
   "execution_count": 20,
   "id": "e0bf6db6",
   "metadata": {},
   "outputs": [
    {
     "data": {
      "text/plain": [
       "{'Female': 0, 'Male': 1}"
      ]
     },
     "execution_count": 20,
     "metadata": {},
     "output_type": "execute_result"
    }
   ],
   "source": [
    "# label encoding With  the sklearn method\n",
    "le = LabelEncoder()\n",
    "# Label encoding of Gender variable\n",
    "dc_train['Gender'] = le.fit_transform(dc_train['Gender'])\n",
    "le_gender_mapping = dict(zip(le.classes_, le.transform(le.classes_)))\n",
    "le_gender_mapping"
   ]
  },
  {
   "cell_type": "markdown",
   "id": "60dd80df",
   "metadata": {},
   "source": [
    "#### Testing and validation sets"
   ]
  },
  {
   "cell_type": "code",
   "execution_count": 21,
   "id": "ba6b4219",
   "metadata": {},
   "outputs": [],
   "source": [
    "# Encoding Gender feature for validation and test set\n",
    "dc_val['Gender'] = dc_val.Gender.map(le_gender_mapping)\n",
    "dc_test['Gender'] = dc_test.Gender.map(le_gender_mapping)\n",
    "\n",
    "# Filling missing/NaN values created due to new categorical levels\n",
    "dc_val['Gender'].fillna(-1, inplace=True)\n",
    "dc_test['Gender'].fillna(-1, inplace=True)"
   ]
  },
  {
   "cell_type": "markdown",
   "id": "c1f27f1c",
   "metadata": {},
   "source": [
    "#### Checking the values on all sets"
   ]
  },
  {
   "cell_type": "code",
   "execution_count": 22,
   "id": "cee22108",
   "metadata": {},
   "outputs": [
    {
     "data": {
      "text/plain": [
       "(array([1, 0]), array([1, 0]), array([1, 0]))"
      ]
     },
     "execution_count": 22,
     "metadata": {},
     "output_type": "execute_result"
    }
   ],
   "source": [
    "dc_train.Gender.unique(), dc_val.Gender.unique(), dc_test.Gender.unique()"
   ]
  },
  {
   "cell_type": "markdown",
   "id": "25a6fb40",
   "metadata": {},
   "source": [
    "### 2- One-Hot encoding"
   ]
  },
  {
   "cell_type": "markdown",
   "id": "50ecb2c7",
   "metadata": {},
   "source": [
    "#### One-hot Encoding Categorical Variables"
   ]
  },
  {
   "cell_type": "code",
   "execution_count": 23,
   "id": "d7651d09",
   "metadata": {},
   "outputs": [
    {
     "data": {
      "text/plain": [
       "array([[0., 1., 0.],\n",
       "       [1., 0., 0.],\n",
       "       [1., 0., 0.],\n",
       "       ...,\n",
       "       [1., 0., 0.],\n",
       "       [0., 1., 0.],\n",
       "       [0., 1., 0.]])"
      ]
     },
     "execution_count": 23,
     "metadata": {},
     "output_type": "execute_result"
    }
   ],
   "source": [
    "# one-hot encode the Geography column\n",
    "\n",
    "# With the sklearn method(LabelEncoder())\n",
    "le_ohe = LabelEncoder()\n",
    "ohe = OneHotEncoder(handle_unknown = 'ignore', sparse=False)\n",
    "enc_train = le_ohe.fit_transform(dc_train.Geography).reshape(dc_train.shape[0],1)\n",
    "ohe_train = ohe.fit_transform(enc_train)\n",
    "ohe_train"
   ]
  },
  {
   "cell_type": "code",
   "execution_count": 24,
   "id": "cb691795",
   "metadata": {},
   "outputs": [
    {
     "data": {
      "text/plain": [
       "{'France': 0, 'Germany': 1, 'Spain': 2}"
      ]
     },
     "execution_count": 24,
     "metadata": {},
     "output_type": "execute_result"
    }
   ],
   "source": [
    "# mapping between classes\n",
    "le_ohe_geography_mapping = dict(zip(le_ohe.classes_, le_ohe.transform(le_ohe.classes_)))\n",
    "le_ohe_geography_mapping"
   ]
  },
  {
   "cell_type": "markdown",
   "id": "6ac7139b",
   "metadata": {},
   "source": [
    "#### Testing and validation sets"
   ]
  },
  {
   "cell_type": "code",
   "execution_count": 25,
   "id": "e8b2e0e2",
   "metadata": {},
   "outputs": [],
   "source": [
    "# Encoding Geography feature for validation and test set\n",
    "enc_val = dc_val.Geography.map(le_ohe_geography_mapping).ravel().reshape(-1,1)\n",
    "enc_test = dc_test.Geography.map(le_ohe_geography_mapping).ravel().reshape(-1,1)\n",
    "\n",
    "# Filling missing/NaN values created due to new categorical levels\n",
    "enc_val[np.isnan(enc_val)] = 9999\n",
    "enc_test[np.isnan(enc_test)] = 9999\n",
    "ohe_val = ohe.transform(enc_val)\n",
    "ohe_test = ohe.transform(enc_test)"
   ]
  },
  {
   "cell_type": "markdown",
   "id": "5e43708a",
   "metadata": {},
   "source": [
    "- In case there is a country that isn't present in the training set, the resulting vector will simply be [0, 0, 0]:"
   ]
  },
  {
   "cell_type": "code",
   "execution_count": 26,
   "id": "d48e2ad0",
   "metadata": {},
   "outputs": [
    {
     "data": {
      "text/plain": [
       "array([[0., 0., 0.]])"
      ]
     },
     "execution_count": 26,
     "metadata": {},
     "output_type": "execute_result"
    }
   ],
   "source": [
    "# Show what happens when a new value is inputted into the OHE \n",
    "ohe.transform(np.array([[9999]]))"
   ]
  },
  {
   "cell_type": "markdown",
   "id": "102cd334",
   "metadata": {},
   "source": [
    "#### Adding the one-hot encoded columns to the data frame and removing the original feature:"
   ]
  },
  {
   "cell_type": "code",
   "execution_count": 27,
   "id": "24e5d9e4",
   "metadata": {},
   "outputs": [
    {
     "data": {
      "text/plain": [
       "['country_France', 'country_Germany', 'country_Spain']"
      ]
     },
     "execution_count": 27,
     "metadata": {},
     "output_type": "execute_result"
    }
   ],
   "source": [
    "cols = ['country_' + str(x) for x in le_ohe_geography_mapping.keys()]\n",
    "cols"
   ]
  },
  {
   "cell_type": "code",
   "execution_count": 28,
   "id": "7c32febd",
   "metadata": {},
   "outputs": [
    {
     "name": "stdout",
     "output_type": "stream",
     "text": [
      "Training set\n"
     ]
    },
    {
     "data": {
      "text/html": [
       "<div>\n",
       "<style scoped>\n",
       "    .dataframe tbody tr th:only-of-type {\n",
       "        vertical-align: middle;\n",
       "    }\n",
       "\n",
       "    .dataframe tbody tr th {\n",
       "        vertical-align: top;\n",
       "    }\n",
       "\n",
       "    .dataframe thead th {\n",
       "        text-align: right;\n",
       "    }\n",
       "</style>\n",
       "<table border=\"1\" class=\"dataframe\">\n",
       "  <thead>\n",
       "    <tr style=\"text-align: right;\">\n",
       "      <th></th>\n",
       "      <th>Surname</th>\n",
       "      <th>CreditScore</th>\n",
       "      <th>Geography</th>\n",
       "      <th>Gender</th>\n",
       "      <th>Age</th>\n",
       "      <th>Tenure</th>\n",
       "      <th>Balance</th>\n",
       "      <th>NumOfProducts</th>\n",
       "      <th>HasCrCard</th>\n",
       "      <th>IsActiveMember</th>\n",
       "      <th>EstimatedSalary</th>\n",
       "      <th>Exited</th>\n",
       "      <th>country_France</th>\n",
       "      <th>country_Germany</th>\n",
       "      <th>country_Spain</th>\n",
       "    </tr>\n",
       "  </thead>\n",
       "  <tbody>\n",
       "    <tr>\n",
       "      <th>0</th>\n",
       "      <td>Yermakova</td>\n",
       "      <td>678</td>\n",
       "      <td>Germany</td>\n",
       "      <td>1</td>\n",
       "      <td>36</td>\n",
       "      <td>1</td>\n",
       "      <td>117864.85</td>\n",
       "      <td>2</td>\n",
       "      <td>1</td>\n",
       "      <td>0</td>\n",
       "      <td>27619.06</td>\n",
       "      <td>0</td>\n",
       "      <td>0.0</td>\n",
       "      <td>1.0</td>\n",
       "      <td>0.0</td>\n",
       "    </tr>\n",
       "    <tr>\n",
       "      <th>1</th>\n",
       "      <td>Warlow-Davies</td>\n",
       "      <td>613</td>\n",
       "      <td>France</td>\n",
       "      <td>0</td>\n",
       "      <td>27</td>\n",
       "      <td>5</td>\n",
       "      <td>125167.74</td>\n",
       "      <td>1</td>\n",
       "      <td>1</td>\n",
       "      <td>0</td>\n",
       "      <td>199104.52</td>\n",
       "      <td>0</td>\n",
       "      <td>1.0</td>\n",
       "      <td>0.0</td>\n",
       "      <td>0.0</td>\n",
       "    </tr>\n",
       "    <tr>\n",
       "      <th>2</th>\n",
       "      <td>Fu</td>\n",
       "      <td>628</td>\n",
       "      <td>France</td>\n",
       "      <td>1</td>\n",
       "      <td>45</td>\n",
       "      <td>9</td>\n",
       "      <td>0.00</td>\n",
       "      <td>2</td>\n",
       "      <td>1</td>\n",
       "      <td>1</td>\n",
       "      <td>96862.56</td>\n",
       "      <td>0</td>\n",
       "      <td>1.0</td>\n",
       "      <td>0.0</td>\n",
       "      <td>0.0</td>\n",
       "    </tr>\n",
       "    <tr>\n",
       "      <th>3</th>\n",
       "      <td>Shih</td>\n",
       "      <td>513</td>\n",
       "      <td>France</td>\n",
       "      <td>1</td>\n",
       "      <td>30</td>\n",
       "      <td>5</td>\n",
       "      <td>0.00</td>\n",
       "      <td>2</td>\n",
       "      <td>1</td>\n",
       "      <td>0</td>\n",
       "      <td>162523.66</td>\n",
       "      <td>0</td>\n",
       "      <td>1.0</td>\n",
       "      <td>0.0</td>\n",
       "      <td>0.0</td>\n",
       "    </tr>\n",
       "    <tr>\n",
       "      <th>4</th>\n",
       "      <td>Mahmood</td>\n",
       "      <td>639</td>\n",
       "      <td>France</td>\n",
       "      <td>1</td>\n",
       "      <td>22</td>\n",
       "      <td>4</td>\n",
       "      <td>0.00</td>\n",
       "      <td>2</td>\n",
       "      <td>1</td>\n",
       "      <td>0</td>\n",
       "      <td>28188.96</td>\n",
       "      <td>0</td>\n",
       "      <td>1.0</td>\n",
       "      <td>0.0</td>\n",
       "      <td>0.0</td>\n",
       "    </tr>\n",
       "  </tbody>\n",
       "</table>\n",
       "</div>"
      ],
      "text/plain": [
       "         Surname  CreditScore Geography  Gender  Age  Tenure    Balance  \\\n",
       "0      Yermakova          678   Germany       1   36       1  117864.85   \n",
       "1  Warlow-Davies          613    France       0   27       5  125167.74   \n",
       "2             Fu          628    France       1   45       9       0.00   \n",
       "3           Shih          513    France       1   30       5       0.00   \n",
       "4        Mahmood          639    France       1   22       4       0.00   \n",
       "\n",
       "   NumOfProducts  HasCrCard  IsActiveMember  EstimatedSalary  Exited  \\\n",
       "0              2          1               0         27619.06       0   \n",
       "1              1          1               0        199104.52       0   \n",
       "2              2          1               1         96862.56       0   \n",
       "3              2          1               0        162523.66       0   \n",
       "4              2          1               0         28188.96       0   \n",
       "\n",
       "   country_France  country_Germany  country_Spain  \n",
       "0             0.0              1.0            0.0  \n",
       "1             1.0              0.0            0.0  \n",
       "2             1.0              0.0            0.0  \n",
       "3             1.0              0.0            0.0  \n",
       "4             1.0              0.0            0.0  "
      ]
     },
     "execution_count": 28,
     "metadata": {},
     "output_type": "execute_result"
    },
    {
     "name": "stdout",
     "output_type": "stream",
     "text": [
      "\n",
      "\n",
      "Validation set\n"
     ]
    },
    {
     "data": {
      "text/html": [
       "<div>\n",
       "<style scoped>\n",
       "    .dataframe tbody tr th:only-of-type {\n",
       "        vertical-align: middle;\n",
       "    }\n",
       "\n",
       "    .dataframe tbody tr th {\n",
       "        vertical-align: top;\n",
       "    }\n",
       "\n",
       "    .dataframe thead th {\n",
       "        text-align: right;\n",
       "    }\n",
       "</style>\n",
       "<table border=\"1\" class=\"dataframe\">\n",
       "  <thead>\n",
       "    <tr style=\"text-align: right;\">\n",
       "      <th></th>\n",
       "      <th>Surname</th>\n",
       "      <th>CreditScore</th>\n",
       "      <th>Geography</th>\n",
       "      <th>Gender</th>\n",
       "      <th>Age</th>\n",
       "      <th>Tenure</th>\n",
       "      <th>Balance</th>\n",
       "      <th>NumOfProducts</th>\n",
       "      <th>HasCrCard</th>\n",
       "      <th>IsActiveMember</th>\n",
       "      <th>EstimatedSalary</th>\n",
       "      <th>Exited</th>\n",
       "      <th>country_France</th>\n",
       "      <th>country_Germany</th>\n",
       "      <th>country_Spain</th>\n",
       "    </tr>\n",
       "  </thead>\n",
       "  <tbody>\n",
       "    <tr>\n",
       "      <th>0</th>\n",
       "      <td>Sun</td>\n",
       "      <td>757</td>\n",
       "      <td>France</td>\n",
       "      <td>1</td>\n",
       "      <td>36</td>\n",
       "      <td>7</td>\n",
       "      <td>144852.06</td>\n",
       "      <td>1</td>\n",
       "      <td>0</td>\n",
       "      <td>0</td>\n",
       "      <td>130861.95</td>\n",
       "      <td>0</td>\n",
       "      <td>1.0</td>\n",
       "      <td>0.0</td>\n",
       "      <td>0.0</td>\n",
       "    </tr>\n",
       "    <tr>\n",
       "      <th>1</th>\n",
       "      <td>Russo</td>\n",
       "      <td>552</td>\n",
       "      <td>France</td>\n",
       "      <td>1</td>\n",
       "      <td>29</td>\n",
       "      <td>10</td>\n",
       "      <td>0.00</td>\n",
       "      <td>2</td>\n",
       "      <td>1</td>\n",
       "      <td>0</td>\n",
       "      <td>12186.83</td>\n",
       "      <td>0</td>\n",
       "      <td>1.0</td>\n",
       "      <td>0.0</td>\n",
       "      <td>0.0</td>\n",
       "    </tr>\n",
       "    <tr>\n",
       "      <th>2</th>\n",
       "      <td>Munro</td>\n",
       "      <td>619</td>\n",
       "      <td>France</td>\n",
       "      <td>0</td>\n",
       "      <td>30</td>\n",
       "      <td>7</td>\n",
       "      <td>70729.17</td>\n",
       "      <td>1</td>\n",
       "      <td>1</td>\n",
       "      <td>1</td>\n",
       "      <td>160948.87</td>\n",
       "      <td>0</td>\n",
       "      <td>1.0</td>\n",
       "      <td>0.0</td>\n",
       "      <td>0.0</td>\n",
       "    </tr>\n",
       "    <tr>\n",
       "      <th>3</th>\n",
       "      <td>Perkins</td>\n",
       "      <td>633</td>\n",
       "      <td>France</td>\n",
       "      <td>1</td>\n",
       "      <td>35</td>\n",
       "      <td>10</td>\n",
       "      <td>0.00</td>\n",
       "      <td>2</td>\n",
       "      <td>1</td>\n",
       "      <td>0</td>\n",
       "      <td>65675.47</td>\n",
       "      <td>0</td>\n",
       "      <td>1.0</td>\n",
       "      <td>0.0</td>\n",
       "      <td>0.0</td>\n",
       "    </tr>\n",
       "    <tr>\n",
       "      <th>4</th>\n",
       "      <td>Aliyeva</td>\n",
       "      <td>698</td>\n",
       "      <td>Spain</td>\n",
       "      <td>1</td>\n",
       "      <td>38</td>\n",
       "      <td>10</td>\n",
       "      <td>95010.92</td>\n",
       "      <td>1</td>\n",
       "      <td>1</td>\n",
       "      <td>1</td>\n",
       "      <td>105227.86</td>\n",
       "      <td>0</td>\n",
       "      <td>0.0</td>\n",
       "      <td>0.0</td>\n",
       "      <td>1.0</td>\n",
       "    </tr>\n",
       "  </tbody>\n",
       "</table>\n",
       "</div>"
      ],
      "text/plain": [
       "   Surname  CreditScore Geography  Gender  Age  Tenure    Balance  \\\n",
       "0      Sun          757    France       1   36       7  144852.06   \n",
       "1    Russo          552    France       1   29      10       0.00   \n",
       "2    Munro          619    France       0   30       7   70729.17   \n",
       "3  Perkins          633    France       1   35      10       0.00   \n",
       "4  Aliyeva          698     Spain       1   38      10   95010.92   \n",
       "\n",
       "   NumOfProducts  HasCrCard  IsActiveMember  EstimatedSalary  Exited  \\\n",
       "0              1          0               0        130861.95       0   \n",
       "1              2          1               0         12186.83       0   \n",
       "2              1          1               1        160948.87       0   \n",
       "3              2          1               0         65675.47       0   \n",
       "4              1          1               1        105227.86       0   \n",
       "\n",
       "   country_France  country_Germany  country_Spain  \n",
       "0             1.0              0.0            0.0  \n",
       "1             1.0              0.0            0.0  \n",
       "2             1.0              0.0            0.0  \n",
       "3             1.0              0.0            0.0  \n",
       "4             0.0              0.0            1.0  "
      ]
     },
     "execution_count": 28,
     "metadata": {},
     "output_type": "execute_result"
    },
    {
     "name": "stdout",
     "output_type": "stream",
     "text": [
      "\n",
      "\n",
      "Test set\n"
     ]
    },
    {
     "data": {
      "text/html": [
       "<div>\n",
       "<style scoped>\n",
       "    .dataframe tbody tr th:only-of-type {\n",
       "        vertical-align: middle;\n",
       "    }\n",
       "\n",
       "    .dataframe tbody tr th {\n",
       "        vertical-align: top;\n",
       "    }\n",
       "\n",
       "    .dataframe thead th {\n",
       "        text-align: right;\n",
       "    }\n",
       "</style>\n",
       "<table border=\"1\" class=\"dataframe\">\n",
       "  <thead>\n",
       "    <tr style=\"text-align: right;\">\n",
       "      <th></th>\n",
       "      <th>Surname</th>\n",
       "      <th>CreditScore</th>\n",
       "      <th>Geography</th>\n",
       "      <th>Gender</th>\n",
       "      <th>Age</th>\n",
       "      <th>Tenure</th>\n",
       "      <th>Balance</th>\n",
       "      <th>NumOfProducts</th>\n",
       "      <th>HasCrCard</th>\n",
       "      <th>IsActiveMember</th>\n",
       "      <th>EstimatedSalary</th>\n",
       "      <th>Exited</th>\n",
       "      <th>country_France</th>\n",
       "      <th>country_Germany</th>\n",
       "      <th>country_Spain</th>\n",
       "    </tr>\n",
       "  </thead>\n",
       "  <tbody>\n",
       "    <tr>\n",
       "      <th>0</th>\n",
       "      <td>Anderson</td>\n",
       "      <td>596</td>\n",
       "      <td>Germany</td>\n",
       "      <td>1</td>\n",
       "      <td>32</td>\n",
       "      <td>3</td>\n",
       "      <td>96709.07</td>\n",
       "      <td>2</td>\n",
       "      <td>0</td>\n",
       "      <td>0</td>\n",
       "      <td>41788.37</td>\n",
       "      <td>0</td>\n",
       "      <td>0.0</td>\n",
       "      <td>1.0</td>\n",
       "      <td>0.0</td>\n",
       "    </tr>\n",
       "    <tr>\n",
       "      <th>1</th>\n",
       "      <td>Herring</td>\n",
       "      <td>623</td>\n",
       "      <td>France</td>\n",
       "      <td>1</td>\n",
       "      <td>43</td>\n",
       "      <td>1</td>\n",
       "      <td>0.00</td>\n",
       "      <td>2</td>\n",
       "      <td>1</td>\n",
       "      <td>1</td>\n",
       "      <td>146379.30</td>\n",
       "      <td>0</td>\n",
       "      <td>1.0</td>\n",
       "      <td>0.0</td>\n",
       "      <td>0.0</td>\n",
       "    </tr>\n",
       "    <tr>\n",
       "      <th>2</th>\n",
       "      <td>Amechi</td>\n",
       "      <td>601</td>\n",
       "      <td>Spain</td>\n",
       "      <td>0</td>\n",
       "      <td>44</td>\n",
       "      <td>4</td>\n",
       "      <td>0.00</td>\n",
       "      <td>2</td>\n",
       "      <td>1</td>\n",
       "      <td>0</td>\n",
       "      <td>58561.31</td>\n",
       "      <td>0</td>\n",
       "      <td>0.0</td>\n",
       "      <td>0.0</td>\n",
       "      <td>1.0</td>\n",
       "    </tr>\n",
       "    <tr>\n",
       "      <th>3</th>\n",
       "      <td>Liang</td>\n",
       "      <td>506</td>\n",
       "      <td>Germany</td>\n",
       "      <td>1</td>\n",
       "      <td>59</td>\n",
       "      <td>8</td>\n",
       "      <td>119152.10</td>\n",
       "      <td>2</td>\n",
       "      <td>1</td>\n",
       "      <td>1</td>\n",
       "      <td>170679.74</td>\n",
       "      <td>0</td>\n",
       "      <td>0.0</td>\n",
       "      <td>1.0</td>\n",
       "      <td>0.0</td>\n",
       "    </tr>\n",
       "    <tr>\n",
       "      <th>4</th>\n",
       "      <td>Chuang</td>\n",
       "      <td>560</td>\n",
       "      <td>Spain</td>\n",
       "      <td>0</td>\n",
       "      <td>27</td>\n",
       "      <td>7</td>\n",
       "      <td>124995.98</td>\n",
       "      <td>1</td>\n",
       "      <td>1</td>\n",
       "      <td>1</td>\n",
       "      <td>114669.79</td>\n",
       "      <td>0</td>\n",
       "      <td>0.0</td>\n",
       "      <td>0.0</td>\n",
       "      <td>1.0</td>\n",
       "    </tr>\n",
       "  </tbody>\n",
       "</table>\n",
       "</div>"
      ],
      "text/plain": [
       "    Surname  CreditScore Geography  Gender  Age  Tenure    Balance  \\\n",
       "0  Anderson          596   Germany       1   32       3   96709.07   \n",
       "1   Herring          623    France       1   43       1       0.00   \n",
       "2    Amechi          601     Spain       0   44       4       0.00   \n",
       "3     Liang          506   Germany       1   59       8  119152.10   \n",
       "4    Chuang          560     Spain       0   27       7  124995.98   \n",
       "\n",
       "   NumOfProducts  HasCrCard  IsActiveMember  EstimatedSalary  Exited  \\\n",
       "0              2          0               0         41788.37       0   \n",
       "1              2          1               1        146379.30       0   \n",
       "2              2          1               0         58561.31       0   \n",
       "3              2          1               1        170679.74       0   \n",
       "4              1          1               1        114669.79       0   \n",
       "\n",
       "   country_France  country_Germany  country_Spain  \n",
       "0             0.0              1.0            0.0  \n",
       "1             1.0              0.0            0.0  \n",
       "2             0.0              0.0            1.0  \n",
       "3             0.0              1.0            0.0  \n",
       "4             0.0              0.0            1.0  "
      ]
     },
     "execution_count": 28,
     "metadata": {},
     "output_type": "execute_result"
    }
   ],
   "source": [
    "# Adding to the respective dataframes\n",
    "dc_train = pd.concat([dc_train.reset_index(), pd.DataFrame(ohe_train, columns = cols)], axis = 1).drop(['index'], axis=1)\n",
    "dc_val = pd.concat([dc_val.reset_index(), pd.DataFrame(ohe_val, columns = cols)], axis = 1).drop(['index'], axis=1)\n",
    "dc_test = pd.concat([dc_test.reset_index(), pd.DataFrame(ohe_test, columns = cols)], axis = 1).drop(['index'], axis=1)\n",
    "print(\"Training set\")\n",
    "dc_train.head()\n",
    "print(\"\\n\\nValidation set\")\n",
    "dc_val.head()\n",
    "print(\"\\n\\nTest set\")\n",
    "dc_test.head()"
   ]
  },
  {
   "cell_type": "markdown",
   "id": "c4979c66",
   "metadata": {},
   "source": [
    "#### Dropping the original Geography column now:"
   ]
  },
  {
   "cell_type": "code",
   "execution_count": 29,
   "id": "482bc5ea",
   "metadata": {},
   "outputs": [],
   "source": [
    "dc_train.drop(['Geography'], axis=1, inplace=True)\n",
    "dc_val.drop(['Geography'], axis=1, inplace=True)\n",
    "dc_test.drop(['Geography'], axis=1, inplace=True)"
   ]
  },
  {
   "cell_type": "markdown",
   "id": "6ee51364",
   "metadata": {},
   "source": [
    "### 3- Target encoding"
   ]
  },
  {
   "cell_type": "markdown",
   "id": "0f8679d2",
   "metadata": {},
   "source": [
    "- Target encoding is generally proper when dealing with categorical variables of high cardinality (high number of levels). "
   ]
  },
  {
   "cell_type": "markdown",
   "id": "91cebd16",
   "metadata": {},
   "source": [
    "#### Encode the Surname column (which has 2932 different values!) with the mean of the target variable for that level:"
   ]
  },
  {
   "cell_type": "code",
   "execution_count": 30,
   "id": "f1f96ee6",
   "metadata": {},
   "outputs": [
    {
     "data": {
      "text/plain": [
       "Surname\n",
       "Abazu       0.00\n",
       "Abbie       0.00\n",
       "Abbott      0.25\n",
       "Abdullah    1.00\n",
       "Abdulov     0.00\n",
       "Name: Exited, dtype: float64"
      ]
     },
     "execution_count": 30,
     "metadata": {},
     "output_type": "execute_result"
    },
    {
     "data": {
      "text/plain": [
       "Surname\n",
       "Zubarev     0.0\n",
       "Zubareva    0.0\n",
       "Zuev        0.0\n",
       "Zuyev       0.0\n",
       "Zuyeva      0.0\n",
       "Name: Exited, dtype: float64"
      ]
     },
     "execution_count": 30,
     "metadata": {},
     "output_type": "execute_result"
    }
   ],
   "source": [
    "means = dc_train.groupby(['Surname']).Exited.mean()\n",
    "means.head()\n",
    "means.tail()"
   ]
  },
  {
   "cell_type": "markdown",
   "id": "2e7ee2c7",
   "metadata": {},
   "source": [
    "#### Global mean of Exited column:"
   ]
  },
  {
   "cell_type": "code",
   "execution_count": 31,
   "id": "f86f59d7",
   "metadata": {},
   "outputs": [
    {
     "data": {
      "text/plain": [
       "0.20303030303030303"
      ]
     },
     "execution_count": 31,
     "metadata": {},
     "output_type": "execute_result"
    }
   ],
   "source": [
    "global_mean = y_train.mean()\n",
    "global_mean"
   ]
  },
  {
   "cell_type": "code",
   "execution_count": 32,
   "id": "3a8b9bcf",
   "metadata": {},
   "outputs": [],
   "source": [
    "# Creating new encoded features for surname - Target (mean) encoding\n",
    "dc_train['Surname_mean_churn'] = dc_train.Surname.map(means)\n",
    "dc_train['Surname_mean_churn'].fillna(global_mean, inplace=True)"
   ]
  },
  {
   "cell_type": "markdown",
   "id": "76c2be73",
   "metadata": {},
   "source": [
    "##### The problem with target encoding is that it might cause \"data leakage\", as we are considering feedback from the target variable while computing any summary statistic. \n",
    "\n",
    "- A solution is to use a modified version: Leave-one-out Target encoding; for a particular data point or row, the mean of the target is calculated by considering all rows in the same definite level except itself. It mitigates data leakage and overfitting to some extent."
   ]
  },
  {
   "cell_type": "markdown",
   "id": "6bacd871",
   "metadata": {},
   "source": [
    "#### Calculating the frequency of each Surname:"
   ]
  },
  {
   "cell_type": "code",
   "execution_count": 33,
   "id": "09d95bb6",
   "metadata": {},
   "outputs": [
    {
     "data": {
      "text/plain": [
       "Surname\n",
       "Abazu       2\n",
       "Abbie       1\n",
       "Abbott      4\n",
       "Abdullah    1\n",
       "Abdulov     1\n",
       "dtype: int64"
      ]
     },
     "execution_count": 33,
     "metadata": {},
     "output_type": "execute_result"
    }
   ],
   "source": [
    "freqs = dc_train.groupby(['Surname']).size()\n",
    "freqs.head()"
   ]
  },
  {
   "cell_type": "markdown",
   "id": "7ce86e4e",
   "metadata": {},
   "source": [
    "#### Create frequency encoding - Number of instances of each category in the data:"
   ]
  },
  {
   "cell_type": "code",
   "execution_count": 34,
   "id": "306d233a",
   "metadata": {},
   "outputs": [],
   "source": [
    "dc_train['Surname_freq'] = dc_train.Surname.map(freqs)\n",
    "dc_train['Surname_freq'].fillna(0, inplace=True)"
   ]
  },
  {
   "cell_type": "markdown",
   "id": "d75e4156",
   "metadata": {},
   "source": [
    "#### Creating Leave-one-out target encoding for Surname:"
   ]
  },
  {
   "cell_type": "code",
   "execution_count": 35,
   "id": "25420831",
   "metadata": {},
   "outputs": [
    {
     "data": {
      "text/html": [
       "<div>\n",
       "<style scoped>\n",
       "    .dataframe tbody tr th:only-of-type {\n",
       "        vertical-align: middle;\n",
       "    }\n",
       "\n",
       "    .dataframe tbody tr th {\n",
       "        vertical-align: top;\n",
       "    }\n",
       "\n",
       "    .dataframe thead th {\n",
       "        text-align: right;\n",
       "    }\n",
       "</style>\n",
       "<table border=\"1\" class=\"dataframe\">\n",
       "  <thead>\n",
       "    <tr style=\"text-align: right;\">\n",
       "      <th></th>\n",
       "      <th>Surname</th>\n",
       "      <th>CreditScore</th>\n",
       "      <th>Gender</th>\n",
       "      <th>Age</th>\n",
       "      <th>Tenure</th>\n",
       "      <th>Balance</th>\n",
       "      <th>NumOfProducts</th>\n",
       "      <th>HasCrCard</th>\n",
       "      <th>IsActiveMember</th>\n",
       "      <th>EstimatedSalary</th>\n",
       "      <th>Exited</th>\n",
       "      <th>country_France</th>\n",
       "      <th>country_Germany</th>\n",
       "      <th>country_Spain</th>\n",
       "      <th>Surname_mean_churn</th>\n",
       "      <th>Surname_freq</th>\n",
       "      <th>Surname_enc</th>\n",
       "    </tr>\n",
       "  </thead>\n",
       "  <tbody>\n",
       "    <tr>\n",
       "      <th>0</th>\n",
       "      <td>Yermakova</td>\n",
       "      <td>678</td>\n",
       "      <td>1</td>\n",
       "      <td>36</td>\n",
       "      <td>1</td>\n",
       "      <td>117864.85</td>\n",
       "      <td>2</td>\n",
       "      <td>1</td>\n",
       "      <td>0</td>\n",
       "      <td>27619.06</td>\n",
       "      <td>0</td>\n",
       "      <td>0.0</td>\n",
       "      <td>1.0</td>\n",
       "      <td>0.0</td>\n",
       "      <td>0.000000</td>\n",
       "      <td>4</td>\n",
       "      <td>0.000000</td>\n",
       "    </tr>\n",
       "    <tr>\n",
       "      <th>1</th>\n",
       "      <td>Warlow-Davies</td>\n",
       "      <td>613</td>\n",
       "      <td>0</td>\n",
       "      <td>27</td>\n",
       "      <td>5</td>\n",
       "      <td>125167.74</td>\n",
       "      <td>1</td>\n",
       "      <td>1</td>\n",
       "      <td>0</td>\n",
       "      <td>199104.52</td>\n",
       "      <td>0</td>\n",
       "      <td>1.0</td>\n",
       "      <td>0.0</td>\n",
       "      <td>0.0</td>\n",
       "      <td>0.000000</td>\n",
       "      <td>2</td>\n",
       "      <td>0.000000</td>\n",
       "    </tr>\n",
       "    <tr>\n",
       "      <th>2</th>\n",
       "      <td>Fu</td>\n",
       "      <td>628</td>\n",
       "      <td>1</td>\n",
       "      <td>45</td>\n",
       "      <td>9</td>\n",
       "      <td>0.00</td>\n",
       "      <td>2</td>\n",
       "      <td>1</td>\n",
       "      <td>1</td>\n",
       "      <td>96862.56</td>\n",
       "      <td>0</td>\n",
       "      <td>1.0</td>\n",
       "      <td>0.0</td>\n",
       "      <td>0.0</td>\n",
       "      <td>0.200000</td>\n",
       "      <td>10</td>\n",
       "      <td>0.222222</td>\n",
       "    </tr>\n",
       "    <tr>\n",
       "      <th>3</th>\n",
       "      <td>Shih</td>\n",
       "      <td>513</td>\n",
       "      <td>1</td>\n",
       "      <td>30</td>\n",
       "      <td>5</td>\n",
       "      <td>0.00</td>\n",
       "      <td>2</td>\n",
       "      <td>1</td>\n",
       "      <td>0</td>\n",
       "      <td>162523.66</td>\n",
       "      <td>0</td>\n",
       "      <td>1.0</td>\n",
       "      <td>0.0</td>\n",
       "      <td>0.0</td>\n",
       "      <td>0.285714</td>\n",
       "      <td>21</td>\n",
       "      <td>0.300000</td>\n",
       "    </tr>\n",
       "    <tr>\n",
       "      <th>4</th>\n",
       "      <td>Mahmood</td>\n",
       "      <td>639</td>\n",
       "      <td>1</td>\n",
       "      <td>22</td>\n",
       "      <td>4</td>\n",
       "      <td>0.00</td>\n",
       "      <td>2</td>\n",
       "      <td>1</td>\n",
       "      <td>0</td>\n",
       "      <td>28188.96</td>\n",
       "      <td>0</td>\n",
       "      <td>1.0</td>\n",
       "      <td>0.0</td>\n",
       "      <td>0.0</td>\n",
       "      <td>0.333333</td>\n",
       "      <td>3</td>\n",
       "      <td>0.500000</td>\n",
       "    </tr>\n",
       "  </tbody>\n",
       "</table>\n",
       "</div>"
      ],
      "text/plain": [
       "         Surname  CreditScore  Gender  Age  Tenure    Balance  NumOfProducts  \\\n",
       "0      Yermakova          678       1   36       1  117864.85              2   \n",
       "1  Warlow-Davies          613       0   27       5  125167.74              1   \n",
       "2             Fu          628       1   45       9       0.00              2   \n",
       "3           Shih          513       1   30       5       0.00              2   \n",
       "4        Mahmood          639       1   22       4       0.00              2   \n",
       "\n",
       "   HasCrCard  IsActiveMember  EstimatedSalary  Exited  country_France  \\\n",
       "0          1               0         27619.06       0             0.0   \n",
       "1          1               0        199104.52       0             1.0   \n",
       "2          1               1         96862.56       0             1.0   \n",
       "3          1               0        162523.66       0             1.0   \n",
       "4          1               0         28188.96       0             1.0   \n",
       "\n",
       "   country_Germany  country_Spain  Surname_mean_churn  Surname_freq  \\\n",
       "0              1.0            0.0            0.000000             4   \n",
       "1              0.0            0.0            0.000000             2   \n",
       "2              0.0            0.0            0.200000            10   \n",
       "3              0.0            0.0            0.285714            21   \n",
       "4              0.0            0.0            0.333333             3   \n",
       "\n",
       "   Surname_enc  \n",
       "0     0.000000  \n",
       "1     0.000000  \n",
       "2     0.222222  \n",
       "3     0.300000  \n",
       "4     0.500000  "
      ]
     },
     "execution_count": 35,
     "metadata": {},
     "output_type": "execute_result"
    }
   ],
   "source": [
    "dc_train['Surname_enc'] = ((dc_train.Surname_freq * dc_train.Surname_mean_churn) - dc_train.Exited)/(dc_train.Surname_freq - 1)\n",
    "# Fill NaNs occuring due to category frequency being 1 or less\n",
    "dc_train['Surname_enc'].fillna((((dc_train.shape[0] * global_mean) - dc_train.Exited) / (dc_train.shape[0] - 1)), inplace=True)\n",
    "dc_train.head(5)"
   ]
  },
  {
   "cell_type": "markdown",
   "id": "000283f8",
   "metadata": {},
   "source": [
    "#### On the validation and testing set, we'll apply the regular target encoding mapping as obtained from the training set:"
   ]
  },
  {
   "cell_type": "code",
   "execution_count": 36,
   "id": "f6559f07",
   "metadata": {},
   "outputs": [
    {
     "data": {
      "text/html": [
       "<div>\n",
       "<style scoped>\n",
       "    .dataframe tbody tr th:only-of-type {\n",
       "        vertical-align: middle;\n",
       "    }\n",
       "\n",
       "    .dataframe tbody tr th {\n",
       "        vertical-align: top;\n",
       "    }\n",
       "\n",
       "    .dataframe thead th {\n",
       "        text-align: right;\n",
       "    }\n",
       "</style>\n",
       "<table border=\"1\" class=\"dataframe\">\n",
       "  <thead>\n",
       "    <tr style=\"text-align: right;\">\n",
       "      <th></th>\n",
       "      <th>Surname_mean_churn</th>\n",
       "      <th>Surname_enc</th>\n",
       "      <th>Exited</th>\n",
       "    </tr>\n",
       "  </thead>\n",
       "  <tbody>\n",
       "    <tr>\n",
       "      <th>Surname_mean_churn</th>\n",
       "      <td>1.000000</td>\n",
       "      <td>0.54823</td>\n",
       "      <td>0.562677</td>\n",
       "    </tr>\n",
       "    <tr>\n",
       "      <th>Surname_enc</th>\n",
       "      <td>0.548230</td>\n",
       "      <td>1.00000</td>\n",
       "      <td>-0.026440</td>\n",
       "    </tr>\n",
       "    <tr>\n",
       "      <th>Exited</th>\n",
       "      <td>0.562677</td>\n",
       "      <td>-0.02644</td>\n",
       "      <td>1.000000</td>\n",
       "    </tr>\n",
       "  </tbody>\n",
       "</table>\n",
       "</div>"
      ],
      "text/plain": [
       "                    Surname_mean_churn  Surname_enc    Exited\n",
       "Surname_mean_churn            1.000000      0.54823  0.562677\n",
       "Surname_enc                   0.548230      1.00000 -0.026440\n",
       "Exited                        0.562677     -0.02644  1.000000"
      ]
     },
     "execution_count": 36,
     "metadata": {},
     "output_type": "execute_result"
    }
   ],
   "source": [
    "# Replacing by category means and new category levels by global mean\n",
    "dc_val['Surname_enc'] = dc_val.Surname.map(means)\n",
    "dc_val['Surname_enc'].fillna(global_mean, inplace=True)\n",
    "dc_test['Surname_enc'] = dc_test.Surname.map(means)\n",
    "dc_test['Surname_enc'].fillna(global_mean, inplace=True)\n",
    "# Show that using LOO Target encoding decorrelates features\n",
    "dc_train[['Surname_mean_churn', 'Surname_enc', 'Exited']].corr()"
   ]
  },
  {
   "cell_type": "markdown",
   "id": "fdbcbff9",
   "metadata": {},
   "source": [
    "- As you can see, \"Surname_enc\" isn't highly correlated with \"Exited\" as \"Surname_mean_churn\", so Leave-one-out is effective here."
   ]
  },
  {
   "cell_type": "markdown",
   "id": "0fe18349",
   "metadata": {},
   "source": [
    "#### Deleting the Surname and other redundant columns across the three datasets:"
   ]
  },
  {
   "cell_type": "code",
   "execution_count": 37,
   "id": "cc290480",
   "metadata": {},
   "outputs": [
    {
     "data": {
      "text/html": [
       "<div>\n",
       "<style scoped>\n",
       "    .dataframe tbody tr th:only-of-type {\n",
       "        vertical-align: middle;\n",
       "    }\n",
       "\n",
       "    .dataframe tbody tr th {\n",
       "        vertical-align: top;\n",
       "    }\n",
       "\n",
       "    .dataframe thead th {\n",
       "        text-align: right;\n",
       "    }\n",
       "</style>\n",
       "<table border=\"1\" class=\"dataframe\">\n",
       "  <thead>\n",
       "    <tr style=\"text-align: right;\">\n",
       "      <th></th>\n",
       "      <th>CreditScore</th>\n",
       "      <th>Gender</th>\n",
       "      <th>Age</th>\n",
       "      <th>Tenure</th>\n",
       "      <th>Balance</th>\n",
       "      <th>NumOfProducts</th>\n",
       "      <th>HasCrCard</th>\n",
       "      <th>IsActiveMember</th>\n",
       "      <th>EstimatedSalary</th>\n",
       "      <th>Exited</th>\n",
       "      <th>country_France</th>\n",
       "      <th>country_Germany</th>\n",
       "      <th>country_Spain</th>\n",
       "      <th>Surname_enc</th>\n",
       "    </tr>\n",
       "  </thead>\n",
       "  <tbody>\n",
       "    <tr>\n",
       "      <th>0</th>\n",
       "      <td>678</td>\n",
       "      <td>1</td>\n",
       "      <td>36</td>\n",
       "      <td>1</td>\n",
       "      <td>117864.85</td>\n",
       "      <td>2</td>\n",
       "      <td>1</td>\n",
       "      <td>0</td>\n",
       "      <td>27619.06</td>\n",
       "      <td>0</td>\n",
       "      <td>0.0</td>\n",
       "      <td>1.0</td>\n",
       "      <td>0.0</td>\n",
       "      <td>0.000000</td>\n",
       "    </tr>\n",
       "    <tr>\n",
       "      <th>1</th>\n",
       "      <td>613</td>\n",
       "      <td>0</td>\n",
       "      <td>27</td>\n",
       "      <td>5</td>\n",
       "      <td>125167.74</td>\n",
       "      <td>1</td>\n",
       "      <td>1</td>\n",
       "      <td>0</td>\n",
       "      <td>199104.52</td>\n",
       "      <td>0</td>\n",
       "      <td>1.0</td>\n",
       "      <td>0.0</td>\n",
       "      <td>0.0</td>\n",
       "      <td>0.000000</td>\n",
       "    </tr>\n",
       "    <tr>\n",
       "      <th>2</th>\n",
       "      <td>628</td>\n",
       "      <td>1</td>\n",
       "      <td>45</td>\n",
       "      <td>9</td>\n",
       "      <td>0.00</td>\n",
       "      <td>2</td>\n",
       "      <td>1</td>\n",
       "      <td>1</td>\n",
       "      <td>96862.56</td>\n",
       "      <td>0</td>\n",
       "      <td>1.0</td>\n",
       "      <td>0.0</td>\n",
       "      <td>0.0</td>\n",
       "      <td>0.222222</td>\n",
       "    </tr>\n",
       "    <tr>\n",
       "      <th>3</th>\n",
       "      <td>513</td>\n",
       "      <td>1</td>\n",
       "      <td>30</td>\n",
       "      <td>5</td>\n",
       "      <td>0.00</td>\n",
       "      <td>2</td>\n",
       "      <td>1</td>\n",
       "      <td>0</td>\n",
       "      <td>162523.66</td>\n",
       "      <td>0</td>\n",
       "      <td>1.0</td>\n",
       "      <td>0.0</td>\n",
       "      <td>0.0</td>\n",
       "      <td>0.300000</td>\n",
       "    </tr>\n",
       "    <tr>\n",
       "      <th>4</th>\n",
       "      <td>639</td>\n",
       "      <td>1</td>\n",
       "      <td>22</td>\n",
       "      <td>4</td>\n",
       "      <td>0.00</td>\n",
       "      <td>2</td>\n",
       "      <td>1</td>\n",
       "      <td>0</td>\n",
       "      <td>28188.96</td>\n",
       "      <td>0</td>\n",
       "      <td>1.0</td>\n",
       "      <td>0.0</td>\n",
       "      <td>0.0</td>\n",
       "      <td>0.500000</td>\n",
       "    </tr>\n",
       "  </tbody>\n",
       "</table>\n",
       "</div>"
      ],
      "text/plain": [
       "   CreditScore  Gender  Age  Tenure    Balance  NumOfProducts  HasCrCard  \\\n",
       "0          678       1   36       1  117864.85              2          1   \n",
       "1          613       0   27       5  125167.74              1          1   \n",
       "2          628       1   45       9       0.00              2          1   \n",
       "3          513       1   30       5       0.00              2          1   \n",
       "4          639       1   22       4       0.00              2          1   \n",
       "\n",
       "   IsActiveMember  EstimatedSalary  Exited  country_France  country_Germany  \\\n",
       "0               0         27619.06       0             0.0              1.0   \n",
       "1               0        199104.52       0             1.0              0.0   \n",
       "2               1         96862.56       0             1.0              0.0   \n",
       "3               0        162523.66       0             1.0              0.0   \n",
       "4               0         28188.96       0             1.0              0.0   \n",
       "\n",
       "   country_Spain  Surname_enc  \n",
       "0            0.0     0.000000  \n",
       "1            0.0     0.000000  \n",
       "2            0.0     0.222222  \n",
       "3            0.0     0.300000  \n",
       "4            0.0     0.500000  "
      ]
     },
     "execution_count": 37,
     "metadata": {},
     "output_type": "execute_result"
    }
   ],
   "source": [
    "dc_train.drop(['Surname_mean_churn'], axis=1, inplace=True)\n",
    "dc_train.drop(['Surname_freq'], axis=1, inplace=True)\n",
    "dc_train.drop(['Surname'], axis=1, inplace=True)\n",
    "dc_val.drop(['Surname'], axis=1, inplace=True)\n",
    "dc_test.drop(['Surname'], axis=1, inplace=True)\n",
    "dc_train.head()"
   ]
  },
  {
   "cell_type": "markdown",
   "id": "6a6bd55c",
   "metadata": {},
   "source": [
    "#### Summary:\n",
    "\n",
    "- Use label encoding and one-hot encoding on the training set and then save the mapping and apply it to the test set. For missing values, use 0, -1 etc.\n",
    "\n",
    "- Target/Frequency encoding: Create a mapping between each level and a statistical measure (mean, median, sum, etc.) of the target from the training dataset. For the new categorical levels, impute the missing values suitably (can be 0, -1, or mean/mode/median).\n",
    "\n",
    "- Leave-one-out or Cross-fold Target encoding avoids data leakage and helps generalize the model."
   ]
  },
  {
   "cell_type": "markdown",
   "id": "d176b435",
   "metadata": {},
   "source": [
    "### Bivariate Analysis"
   ]
  },
  {
   "cell_type": "markdown",
   "id": "e8de06ae",
   "metadata": {},
   "source": [
    "#### Checking the linear correlation between individual features and the target variable:"
   ]
  },
  {
   "cell_type": "code",
   "execution_count": 38,
   "id": "24e4b7fb",
   "metadata": {},
   "outputs": [],
   "source": [
    "corr = dc_train.corr()"
   ]
  },
  {
   "cell_type": "code",
   "execution_count": 39,
   "id": "788ff393",
   "metadata": {},
   "outputs": [
    {
     "data": {
      "text/plain": [
       "<AxesSubplot: >"
      ]
     },
     "execution_count": 39,
     "metadata": {},
     "output_type": "execute_result"
    },
    {
     "data": {
      "image/png": "[encoded data removed]",
      "text/plain": [
       "<Figure size 640x480 with 2 Axes>"
      ]
     },
     "metadata": {},
     "output_type": "display_data"
    }
   ],
   "source": [
    "# Drawing a heatmap\n",
    "sns.heatmap(corr, cmap = 'coolwarm')"
   ]
  },
  {
   "cell_type": "markdown",
   "id": "65922d60",
   "metadata": {},
   "source": [
    "- None of the features are highly correlated with the target variable. \n",
    "  But some of them have slight linear associations with the target variable:\n",
    "\n",
    "    - Continuous features: Age, Balance.\n",
    "    - Categorical variables: Gender, IsActiveMember, country_Germany, country_France."
   ]
  },
  {
   "cell_type": "markdown",
   "id": "d4ec6fee",
   "metadata": {},
   "source": [
    "#### Individual features versus their distribution across target variable values, for \"Age\" column:"
   ]
  },
  {
   "cell_type": "code",
   "execution_count": 40,
   "id": "609255a1",
   "metadata": {},
   "outputs": [
    {
     "data": {
      "text/plain": [
       "<AxesSubplot: xlabel='Exited', ylabel='Age'>"
      ]
     },
     "execution_count": 40,
     "metadata": {},
     "output_type": "execute_result"
    },
    {
     "data": {
      "image/png": "[encoded data removed]",
      "text/plain": [
       "<Figure size 640x480 with 1 Axes>"
      ]
     },
     "metadata": {},
     "output_type": "display_data"
    }
   ],
   "source": [
    "sns.boxplot(x=\"Exited\", y=\"Age\", data=dc_train, palette=\"Set3\")"
   ]
  },
  {
   "cell_type": "markdown",
   "id": "38545669",
   "metadata": {},
   "source": [
    "- Tips:\n",
    "    - There is an outside point at 90 for class 0 and 83 for class 1.\n",
    "    - The Median is around 35 for class 0 and 45 for class 1.\n",
    "    - The lower adjacent value is a bit less than 20 for both classes.\n",
    "    - The upper adjoining value is around 55 for class 0 and more than 70 for class 1."
   ]
  },
  {
   "cell_type": "markdown",
   "id": "99428582",
   "metadata": {},
   "source": [
    "####  Violin plot for the \"Balance\":"
   ]
  },
  {
   "cell_type": "code",
   "execution_count": 41,
   "id": "07d37408",
   "metadata": {},
   "outputs": [
    {
     "data": {
      "text/plain": [
       "<AxesSubplot: xlabel='Exited', ylabel='Balance'>"
      ]
     },
     "execution_count": 41,
     "metadata": {},
     "output_type": "execute_result"
    },
    {
     "data": {
      "image/png": "[encoded data removed]",
      "text/plain": [
       "<Figure size 640x480 with 1 Axes>"
      ]
     },
     "metadata": {},
     "output_type": "display_data"
    }
   ],
   "source": [
    "sns.violinplot(x=\"Exited\", y=\"Balance\", data=dc_train, palette=\"Set3\")"
   ]
  },
  {
   "cell_type": "markdown",
   "id": "06eb8076",
   "metadata": {},
   "source": [
    "- We see a high probability of observation at 125000 (balance) and a peak at 0 (balance) for class 0."
   ]
  }
 ],
 "metadata": {
  "kernelspec": {
   "display_name": "Python 3 (ipykernel)",
   "language": "python",
   "name": "python3"
  },
  "language_info": {
   "codemirror_mode": {
    "name": "ipython",
    "version": 3
   },
   "file_extension": ".py",
   "mimetype": "text/x-python",
   "name": "python",
   "nbconvert_exporter": "python",
   "pygments_lexer": "ipython3",
   "version": "3.9.15"
  }
 },
 "nbformat": 4,
 "nbformat_minor": 5
}
