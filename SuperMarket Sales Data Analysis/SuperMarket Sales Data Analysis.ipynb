{
 "cells": [
  {
   "cell_type": "markdown",
   "id": "4ac002c3",
   "metadata": {},
   "source": [
    "SuperMarket Sales Data Analysis"
   ]
  },
  {
   "cell_type": "code",
   "execution_count": 1,
   "id": "0bf6c074",
   "metadata": {},
   "outputs": [
    {
     "data": {
      "application/javascript": [
       "if (window.IPython && IPython.notebook.kernel) IPython.notebook.kernel.execute('jovian.utils.jupyter.get_notebook_name_saved = lambda: \"' + IPython.notebook.notebook_name + '\"')"
      ],
      "text/plain": [
       "<IPython.core.display.Javascript object>"
      ]
     },
     "metadata": {},
     "output_type": "display_data"
    }
   ],
   "source": [
    "#Import the libraries \n",
    "\n",
    "#Save our Project\n",
    "import jovian\n",
    "#Manipulate file\n",
    "import os\n",
    "\n",
    "# Numerical/Dataframe libraries\n",
    "import pandas as pd \n",
    "import numpy as np\n",
    "\n",
    "# Vizualizing NaN values\n",
    "import missingno as msno\n",
    "\n",
    "#Geolocalisation\n",
    "import folium\n",
    "\n",
    "#Vizualization\n",
    "import matplotlib\n",
    "import matplotlib.pyplot as plt\n",
    "import seaborn as sns"
   ]
  },
  {
   "cell_type": "markdown",
   "id": "f61435fa",
   "metadata": {},
   "source": [
    "Reading The DATASET"
   ]
  },
  {
   "cell_type": "code",
   "execution_count": 2,
   "id": "bc0c36d9",
   "metadata": {},
   "outputs": [],
   "source": [
    "\n",
    "supermarket_df= pd.read_csv('E:/AMotefaker/ABC/Data Analyst/Sales Data Analysis/SuperMarket Sales Data Analysis/supermarket_sales.csv')"
   ]
  }
 ],
 "metadata": {
  "kernelspec": {
   "display_name": "Python 3 (ipykernel)",
   "language": "python",
   "name": "python3"
  },
  "language_info": {
   "codemirror_mode": {
    "name": "ipython",
    "version": 3
   },
   "file_extension": ".py",
   "mimetype": "text/x-python",
   "name": "python",
   "nbconvert_exporter": "python",
   "pygments_lexer": "ipython3",
   "version": "3.9.12"
  }
 },
 "nbformat": 4,
 "nbformat_minor": 5
}
