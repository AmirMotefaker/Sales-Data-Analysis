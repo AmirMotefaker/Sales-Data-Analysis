{
 "cells": [
  {
   "cell_type": "markdown",
   "id": "4ac002c3",
   "metadata": {},
   "source": [
    "SuperMarket Sales Data Analysis"
   ]
  },
  {
   "cell_type": "code",
   "execution_count": 1,
   "id": "0bf6c074",
   "metadata": {},
   "outputs": [
    {
     "data": {
      "application/javascript": [
       "if (window.IPython && IPython.notebook.kernel) IPython.notebook.kernel.execute('jovian.utils.jupyter.get_notebook_name_saved = lambda: \"' + IPython.notebook.notebook_name + '\"')"
      ],
      "text/plain": [
       "<IPython.core.display.Javascript object>"
      ]
     },
     "metadata": {},
     "output_type": "display_data"
    }
   ],
   "source": [
    "#Import the libraries \n",
    "\n",
    "#Save our Project\n",
    "import jovian\n",
    "#Manipulate file\n",
    "import os\n",
    "\n",
    "# Numerical/Dataframe libraries\n",
    "import pandas as pd \n",
    "import numpy as np\n",
    "\n",
    "# Vizualizing NaN values\n",
    "import missingno as msno\n",
    "\n",
    "#Geolocalisation\n",
    "import folium\n",
    "\n",
    "#Vizualization\n",
    "import matplotlib\n",
    "import matplotlib.pyplot as plt\n",
    "import seaborn as sns"
   ]
  },
  {
   "cell_type": "markdown",
   "id": "aeeefd95",
   "metadata": {},
   "source": [
    "Reading The DATASET"
   ]
  },
  {
   "cell_type": "code",
   "execution_count": 2,
   "id": "3a54a16d",
   "metadata": {},
   "outputs": [],
   "source": [
    "\n",
    "supermarket_df= pd.read_csv('E:/AMotefaker/ABC/Data Analyst/Sales Data Analysis/SuperMarket Sales Data Analysis/supermarket_sales.csv')"
   ]
  },
  {
   "cell_type": "code",
   "execution_count": 3,
   "id": "2b7872cc",
   "metadata": {},
   "outputs": [
    {
     "data": {
      "text/html": [
       "<style type=\"text/css\">\n",
       "#T_db880_row0_col6 {\n",
       "  background-color: #1272b1;\n",
       "  color: #f1f1f1;\n",
       "}\n",
       "#T_db880_row0_col7, #T_db880_row2_col7, #T_db880_row4_col7, #T_db880_row5_col7 {\n",
       "  background-color: #4db2d3;\n",
       "  color: #f1f1f1;\n",
       "}\n",
       "#T_db880_row0_col8, #T_db880_row0_col9, #T_db880_row0_col13, #T_db880_row0_col15 {\n",
       "  background-color: #3fa2ca;\n",
       "  color: #f1f1f1;\n",
       "}\n",
       "#T_db880_row0_col14, #T_db880_row1_col6, #T_db880_row1_col14, #T_db880_row2_col14, #T_db880_row3_col14, #T_db880_row4_col14, #T_db880_row5_col14, #T_db880_row5_col16, #T_db880_row6_col14, #T_db880_row7_col14, #T_db880_row8_col7, #T_db880_row8_col8, #T_db880_row8_col9, #T_db880_row8_col13, #T_db880_row8_col14, #T_db880_row8_col15, #T_db880_row9_col14 {\n",
       "  background-color: #f7fcf0;\n",
       "  color: #000000;\n",
       "}\n",
       "#T_db880_row0_col16 {\n",
       "  background-color: #085da0;\n",
       "  color: #f1f1f1;\n",
       "}\n",
       "#T_db880_row1_col7 {\n",
       "  background-color: #a7ddb5;\n",
       "  color: #000000;\n",
       "}\n",
       "#T_db880_row1_col8, #T_db880_row1_col9, #T_db880_row1_col13, #T_db880_row1_col15 {\n",
       "  background-color: #f6fcef;\n",
       "  color: #000000;\n",
       "}\n",
       "#T_db880_row1_col16, #T_db880_row4_col6, #T_db880_row7_col7, #T_db880_row7_col8, #T_db880_row7_col9, #T_db880_row7_col13, #T_db880_row7_col15 {\n",
       "  background-color: #084081;\n",
       "  color: #f1f1f1;\n",
       "}\n",
       "#T_db880_row2_col6 {\n",
       "  background-color: #92d5bc;\n",
       "  color: #000000;\n",
       "}\n",
       "#T_db880_row2_col8, #T_db880_row2_col9, #T_db880_row2_col13, #T_db880_row2_col15 {\n",
       "  background-color: #a6dcb6;\n",
       "  color: #000000;\n",
       "}\n",
       "#T_db880_row2_col16 {\n",
       "  background-color: #57b8d0;\n",
       "  color: #000000;\n",
       "}\n",
       "#T_db880_row3_col6 {\n",
       "  background-color: #56b7d0;\n",
       "  color: #f1f1f1;\n",
       "}\n",
       "#T_db880_row3_col7 {\n",
       "  background-color: #2a8bbe;\n",
       "  color: #f1f1f1;\n",
       "}\n",
       "#T_db880_row3_col8, #T_db880_row3_col9, #T_db880_row3_col13, #T_db880_row3_col15 {\n",
       "  background-color: #5abacf;\n",
       "  color: #000000;\n",
       "}\n",
       "#T_db880_row3_col16 {\n",
       "  background-color: #2182b9;\n",
       "  color: #f1f1f1;\n",
       "}\n",
       "#T_db880_row4_col8, #T_db880_row4_col9, #T_db880_row4_col13, #T_db880_row4_col15 {\n",
       "  background-color: #1c7cb6;\n",
       "  color: #f1f1f1;\n",
       "}\n",
       "#T_db880_row4_col16 {\n",
       "  background-color: #d1edcb;\n",
       "  color: #000000;\n",
       "}\n",
       "#T_db880_row5_col6 {\n",
       "  background-color: #084485;\n",
       "  color: #f1f1f1;\n",
       "}\n",
       "#T_db880_row5_col8, #T_db880_row5_col9, #T_db880_row5_col13, #T_db880_row5_col15 {\n",
       "  background-color: #1f80b8;\n",
       "  color: #f1f1f1;\n",
       "}\n",
       "#T_db880_row6_col6 {\n",
       "  background-color: #298abd;\n",
       "  color: #f1f1f1;\n",
       "}\n",
       "#T_db880_row6_col7 {\n",
       "  background-color: #7accc4;\n",
       "  color: #000000;\n",
       "}\n",
       "#T_db880_row6_col8, #T_db880_row6_col9, #T_db880_row6_col13, #T_db880_row6_col15 {\n",
       "  background-color: #76c9c6;\n",
       "  color: #000000;\n",
       "}\n",
       "#T_db880_row6_col16 {\n",
       "  background-color: #bbe4bd;\n",
       "  color: #000000;\n",
       "}\n",
       "#T_db880_row7_col6 {\n",
       "  background-color: #1677b3;\n",
       "  color: #f1f1f1;\n",
       "}\n",
       "#T_db880_row7_col16 {\n",
       "  background-color: #3699c5;\n",
       "  color: #f1f1f1;\n",
       "}\n",
       "#T_db880_row8_col6 {\n",
       "  background-color: #bfe6bf;\n",
       "  color: #000000;\n",
       "}\n",
       "#T_db880_row8_col16 {\n",
       "  background-color: #64bfcc;\n",
       "  color: #000000;\n",
       "}\n",
       "#T_db880_row9_col6 {\n",
       "  background-color: #67c1cb;\n",
       "  color: #000000;\n",
       "}\n",
       "#T_db880_row9_col7 {\n",
       "  background-color: #e0f3db;\n",
       "  color: #000000;\n",
       "}\n",
       "#T_db880_row9_col8, #T_db880_row9_col9, #T_db880_row9_col13, #T_db880_row9_col15 {\n",
       "  background-color: #def2d9;\n",
       "  color: #000000;\n",
       "}\n",
       "#T_db880_row9_col16 {\n",
       "  background-color: #b6e3bb;\n",
       "  color: #000000;\n",
       "}\n",
       "</style>\n",
       "<table id=\"T_db880\">\n",
       "  <thead>\n",
       "    <tr>\n",
       "      <th class=\"blank level0\" >&nbsp;</th>\n",
       "      <th id=\"T_db880_level0_col0\" class=\"col_heading level0 col0\" >Invoice ID</th>\n",
       "      <th id=\"T_db880_level0_col1\" class=\"col_heading level0 col1\" >Branch</th>\n",
       "      <th id=\"T_db880_level0_col2\" class=\"col_heading level0 col2\" >City</th>\n",
       "      <th id=\"T_db880_level0_col3\" class=\"col_heading level0 col3\" >Customer type</th>\n",
       "      <th id=\"T_db880_level0_col4\" class=\"col_heading level0 col4\" >Gender</th>\n",
       "      <th id=\"T_db880_level0_col5\" class=\"col_heading level0 col5\" >Product line</th>\n",
       "      <th id=\"T_db880_level0_col6\" class=\"col_heading level0 col6\" >Unit price</th>\n",
       "      <th id=\"T_db880_level0_col7\" class=\"col_heading level0 col7\" >Quantity</th>\n",
       "      <th id=\"T_db880_level0_col8\" class=\"col_heading level0 col8\" >Tax 5%</th>\n",
       "      <th id=\"T_db880_level0_col9\" class=\"col_heading level0 col9\" >Total</th>\n",
       "      <th id=\"T_db880_level0_col10\" class=\"col_heading level0 col10\" >Date</th>\n",
       "      <th id=\"T_db880_level0_col11\" class=\"col_heading level0 col11\" >Time</th>\n",
       "      <th id=\"T_db880_level0_col12\" class=\"col_heading level0 col12\" >Payment</th>\n",
       "      <th id=\"T_db880_level0_col13\" class=\"col_heading level0 col13\" >cogs</th>\n",
       "      <th id=\"T_db880_level0_col14\" class=\"col_heading level0 col14\" >gross margin percentage</th>\n",
       "      <th id=\"T_db880_level0_col15\" class=\"col_heading level0 col15\" >gross income</th>\n",
       "      <th id=\"T_db880_level0_col16\" class=\"col_heading level0 col16\" >Rating</th>\n",
       "    </tr>\n",
       "  </thead>\n",
       "  <tbody>\n",
       "    <tr>\n",
       "      <th id=\"T_db880_level0_row0\" class=\"row_heading level0 row0\" >0</th>\n",
       "      <td id=\"T_db880_row0_col0\" class=\"data row0 col0\" >750-67-8428</td>\n",
       "      <td id=\"T_db880_row0_col1\" class=\"data row0 col1\" >A</td>\n",
       "      <td id=\"T_db880_row0_col2\" class=\"data row0 col2\" >Yangon</td>\n",
       "      <td id=\"T_db880_row0_col3\" class=\"data row0 col3\" >Member</td>\n",
       "      <td id=\"T_db880_row0_col4\" class=\"data row0 col4\" >Female</td>\n",
       "      <td id=\"T_db880_row0_col5\" class=\"data row0 col5\" >Health and beauty</td>\n",
       "      <td id=\"T_db880_row0_col6\" class=\"data row0 col6\" >74.690000</td>\n",
       "      <td id=\"T_db880_row0_col7\" class=\"data row0 col7\" >7</td>\n",
       "      <td id=\"T_db880_row0_col8\" class=\"data row0 col8\" >26.141500</td>\n",
       "      <td id=\"T_db880_row0_col9\" class=\"data row0 col9\" >548.971500</td>\n",
       "      <td id=\"T_db880_row0_col10\" class=\"data row0 col10\" >1/5/2019</td>\n",
       "      <td id=\"T_db880_row0_col11\" class=\"data row0 col11\" >13:08</td>\n",
       "      <td id=\"T_db880_row0_col12\" class=\"data row0 col12\" >Ewallet</td>\n",
       "      <td id=\"T_db880_row0_col13\" class=\"data row0 col13\" >522.830000</td>\n",
       "      <td id=\"T_db880_row0_col14\" class=\"data row0 col14\" >4.761905</td>\n",
       "      <td id=\"T_db880_row0_col15\" class=\"data row0 col15\" >26.141500</td>\n",
       "      <td id=\"T_db880_row0_col16\" class=\"data row0 col16\" >9.100000</td>\n",
       "    </tr>\n",
       "    <tr>\n",
       "      <th id=\"T_db880_level0_row1\" class=\"row_heading level0 row1\" >1</th>\n",
       "      <td id=\"T_db880_row1_col0\" class=\"data row1 col0\" >226-31-3081</td>\n",
       "      <td id=\"T_db880_row1_col1\" class=\"data row1 col1\" >C</td>\n",
       "      <td id=\"T_db880_row1_col2\" class=\"data row1 col2\" >Naypyitaw</td>\n",
       "      <td id=\"T_db880_row1_col3\" class=\"data row1 col3\" >Normal</td>\n",
       "      <td id=\"T_db880_row1_col4\" class=\"data row1 col4\" >Female</td>\n",
       "      <td id=\"T_db880_row1_col5\" class=\"data row1 col5\" >Electronic accessories</td>\n",
       "      <td id=\"T_db880_row1_col6\" class=\"data row1 col6\" >15.280000</td>\n",
       "      <td id=\"T_db880_row1_col7\" class=\"data row1 col7\" >5</td>\n",
       "      <td id=\"T_db880_row1_col8\" class=\"data row1 col8\" >3.820000</td>\n",
       "      <td id=\"T_db880_row1_col9\" class=\"data row1 col9\" >80.220000</td>\n",
       "      <td id=\"T_db880_row1_col10\" class=\"data row1 col10\" >3/8/2019</td>\n",
       "      <td id=\"T_db880_row1_col11\" class=\"data row1 col11\" >10:29</td>\n",
       "      <td id=\"T_db880_row1_col12\" class=\"data row1 col12\" >Cash</td>\n",
       "      <td id=\"T_db880_row1_col13\" class=\"data row1 col13\" >76.400000</td>\n",
       "      <td id=\"T_db880_row1_col14\" class=\"data row1 col14\" >4.761905</td>\n",
       "      <td id=\"T_db880_row1_col15\" class=\"data row1 col15\" >3.820000</td>\n",
       "      <td id=\"T_db880_row1_col16\" class=\"data row1 col16\" >9.600000</td>\n",
       "    </tr>\n",
       "    <tr>\n",
       "      <th id=\"T_db880_level0_row2\" class=\"row_heading level0 row2\" >2</th>\n",
       "      <td id=\"T_db880_row2_col0\" class=\"data row2 col0\" >631-41-3108</td>\n",
       "      <td id=\"T_db880_row2_col1\" class=\"data row2 col1\" >A</td>\n",
       "      <td id=\"T_db880_row2_col2\" class=\"data row2 col2\" >Yangon</td>\n",
       "      <td id=\"T_db880_row2_col3\" class=\"data row2 col3\" >Normal</td>\n",
       "      <td id=\"T_db880_row2_col4\" class=\"data row2 col4\" >Male</td>\n",
       "      <td id=\"T_db880_row2_col5\" class=\"data row2 col5\" >Home and lifestyle</td>\n",
       "      <td id=\"T_db880_row2_col6\" class=\"data row2 col6\" >46.330000</td>\n",
       "      <td id=\"T_db880_row2_col7\" class=\"data row2 col7\" >7</td>\n",
       "      <td id=\"T_db880_row2_col8\" class=\"data row2 col8\" >16.215500</td>\n",
       "      <td id=\"T_db880_row2_col9\" class=\"data row2 col9\" >340.525500</td>\n",
       "      <td id=\"T_db880_row2_col10\" class=\"data row2 col10\" >3/3/2019</td>\n",
       "      <td id=\"T_db880_row2_col11\" class=\"data row2 col11\" >13:23</td>\n",
       "      <td id=\"T_db880_row2_col12\" class=\"data row2 col12\" >Credit card</td>\n",
       "      <td id=\"T_db880_row2_col13\" class=\"data row2 col13\" >324.310000</td>\n",
       "      <td id=\"T_db880_row2_col14\" class=\"data row2 col14\" >4.761905</td>\n",
       "      <td id=\"T_db880_row2_col15\" class=\"data row2 col15\" >16.215500</td>\n",
       "      <td id=\"T_db880_row2_col16\" class=\"data row2 col16\" >7.400000</td>\n",
       "    </tr>\n",
       "    <tr>\n",
       "      <th id=\"T_db880_level0_row3\" class=\"row_heading level0 row3\" >3</th>\n",
       "      <td id=\"T_db880_row3_col0\" class=\"data row3 col0\" >123-19-1176</td>\n",
       "      <td id=\"T_db880_row3_col1\" class=\"data row3 col1\" >A</td>\n",
       "      <td id=\"T_db880_row3_col2\" class=\"data row3 col2\" >Yangon</td>\n",
       "      <td id=\"T_db880_row3_col3\" class=\"data row3 col3\" >Member</td>\n",
       "      <td id=\"T_db880_row3_col4\" class=\"data row3 col4\" >Male</td>\n",
       "      <td id=\"T_db880_row3_col5\" class=\"data row3 col5\" >Health and beauty</td>\n",
       "      <td id=\"T_db880_row3_col6\" class=\"data row3 col6\" >58.220000</td>\n",
       "      <td id=\"T_db880_row3_col7\" class=\"data row3 col7\" >8</td>\n",
       "      <td id=\"T_db880_row3_col8\" class=\"data row3 col8\" >23.288000</td>\n",
       "      <td id=\"T_db880_row3_col9\" class=\"data row3 col9\" >489.048000</td>\n",
       "      <td id=\"T_db880_row3_col10\" class=\"data row3 col10\" >1/27/2019</td>\n",
       "      <td id=\"T_db880_row3_col11\" class=\"data row3 col11\" >20:33</td>\n",
       "      <td id=\"T_db880_row3_col12\" class=\"data row3 col12\" >Ewallet</td>\n",
       "      <td id=\"T_db880_row3_col13\" class=\"data row3 col13\" >465.760000</td>\n",
       "      <td id=\"T_db880_row3_col14\" class=\"data row3 col14\" >4.761905</td>\n",
       "      <td id=\"T_db880_row3_col15\" class=\"data row3 col15\" >23.288000</td>\n",
       "      <td id=\"T_db880_row3_col16\" class=\"data row3 col16\" >8.400000</td>\n",
       "    </tr>\n",
       "    <tr>\n",
       "      <th id=\"T_db880_level0_row4\" class=\"row_heading level0 row4\" >4</th>\n",
       "      <td id=\"T_db880_row4_col0\" class=\"data row4 col0\" >373-73-7910</td>\n",
       "      <td id=\"T_db880_row4_col1\" class=\"data row4 col1\" >A</td>\n",
       "      <td id=\"T_db880_row4_col2\" class=\"data row4 col2\" >Yangon</td>\n",
       "      <td id=\"T_db880_row4_col3\" class=\"data row4 col3\" >Normal</td>\n",
       "      <td id=\"T_db880_row4_col4\" class=\"data row4 col4\" >Male</td>\n",
       "      <td id=\"T_db880_row4_col5\" class=\"data row4 col5\" >Sports and travel</td>\n",
       "      <td id=\"T_db880_row4_col6\" class=\"data row4 col6\" >86.310000</td>\n",
       "      <td id=\"T_db880_row4_col7\" class=\"data row4 col7\" >7</td>\n",
       "      <td id=\"T_db880_row4_col8\" class=\"data row4 col8\" >30.208500</td>\n",
       "      <td id=\"T_db880_row4_col9\" class=\"data row4 col9\" >634.378500</td>\n",
       "      <td id=\"T_db880_row4_col10\" class=\"data row4 col10\" >2/8/2019</td>\n",
       "      <td id=\"T_db880_row4_col11\" class=\"data row4 col11\" >10:37</td>\n",
       "      <td id=\"T_db880_row4_col12\" class=\"data row4 col12\" >Ewallet</td>\n",
       "      <td id=\"T_db880_row4_col13\" class=\"data row4 col13\" >604.170000</td>\n",
       "      <td id=\"T_db880_row4_col14\" class=\"data row4 col14\" >4.761905</td>\n",
       "      <td id=\"T_db880_row4_col15\" class=\"data row4 col15\" >30.208500</td>\n",
       "      <td id=\"T_db880_row4_col16\" class=\"data row4 col16\" >5.300000</td>\n",
       "    </tr>\n",
       "    <tr>\n",
       "      <th id=\"T_db880_level0_row5\" class=\"row_heading level0 row5\" >5</th>\n",
       "      <td id=\"T_db880_row5_col0\" class=\"data row5 col0\" >699-14-3026</td>\n",
       "      <td id=\"T_db880_row5_col1\" class=\"data row5 col1\" >C</td>\n",
       "      <td id=\"T_db880_row5_col2\" class=\"data row5 col2\" >Naypyitaw</td>\n",
       "      <td id=\"T_db880_row5_col3\" class=\"data row5 col3\" >Normal</td>\n",
       "      <td id=\"T_db880_row5_col4\" class=\"data row5 col4\" >Male</td>\n",
       "      <td id=\"T_db880_row5_col5\" class=\"data row5 col5\" >Electronic accessories</td>\n",
       "      <td id=\"T_db880_row5_col6\" class=\"data row5 col6\" >85.390000</td>\n",
       "      <td id=\"T_db880_row5_col7\" class=\"data row5 col7\" >7</td>\n",
       "      <td id=\"T_db880_row5_col8\" class=\"data row5 col8\" >29.886500</td>\n",
       "      <td id=\"T_db880_row5_col9\" class=\"data row5 col9\" >627.616500</td>\n",
       "      <td id=\"T_db880_row5_col10\" class=\"data row5 col10\" >3/25/2019</td>\n",
       "      <td id=\"T_db880_row5_col11\" class=\"data row5 col11\" >18:30</td>\n",
       "      <td id=\"T_db880_row5_col12\" class=\"data row5 col12\" >Ewallet</td>\n",
       "      <td id=\"T_db880_row5_col13\" class=\"data row5 col13\" >597.730000</td>\n",
       "      <td id=\"T_db880_row5_col14\" class=\"data row5 col14\" >4.761905</td>\n",
       "      <td id=\"T_db880_row5_col15\" class=\"data row5 col15\" >29.886500</td>\n",
       "      <td id=\"T_db880_row5_col16\" class=\"data row5 col16\" >4.100000</td>\n",
       "    </tr>\n",
       "    <tr>\n",
       "      <th id=\"T_db880_level0_row6\" class=\"row_heading level0 row6\" >6</th>\n",
       "      <td id=\"T_db880_row6_col0\" class=\"data row6 col0\" >355-53-5943</td>\n",
       "      <td id=\"T_db880_row6_col1\" class=\"data row6 col1\" >A</td>\n",
       "      <td id=\"T_db880_row6_col2\" class=\"data row6 col2\" >Yangon</td>\n",
       "      <td id=\"T_db880_row6_col3\" class=\"data row6 col3\" >Member</td>\n",
       "      <td id=\"T_db880_row6_col4\" class=\"data row6 col4\" >Female</td>\n",
       "      <td id=\"T_db880_row6_col5\" class=\"data row6 col5\" >Electronic accessories</td>\n",
       "      <td id=\"T_db880_row6_col6\" class=\"data row6 col6\" >68.840000</td>\n",
       "      <td id=\"T_db880_row6_col7\" class=\"data row6 col7\" >6</td>\n",
       "      <td id=\"T_db880_row6_col8\" class=\"data row6 col8\" >20.652000</td>\n",
       "      <td id=\"T_db880_row6_col9\" class=\"data row6 col9\" >433.692000</td>\n",
       "      <td id=\"T_db880_row6_col10\" class=\"data row6 col10\" >2/25/2019</td>\n",
       "      <td id=\"T_db880_row6_col11\" class=\"data row6 col11\" >14:36</td>\n",
       "      <td id=\"T_db880_row6_col12\" class=\"data row6 col12\" >Ewallet</td>\n",
       "      <td id=\"T_db880_row6_col13\" class=\"data row6 col13\" >413.040000</td>\n",
       "      <td id=\"T_db880_row6_col14\" class=\"data row6 col14\" >4.761905</td>\n",
       "      <td id=\"T_db880_row6_col15\" class=\"data row6 col15\" >20.652000</td>\n",
       "      <td id=\"T_db880_row6_col16\" class=\"data row6 col16\" >5.800000</td>\n",
       "    </tr>\n",
       "    <tr>\n",
       "      <th id=\"T_db880_level0_row7\" class=\"row_heading level0 row7\" >7</th>\n",
       "      <td id=\"T_db880_row7_col0\" class=\"data row7 col0\" >315-22-5665</td>\n",
       "      <td id=\"T_db880_row7_col1\" class=\"data row7 col1\" >C</td>\n",
       "      <td id=\"T_db880_row7_col2\" class=\"data row7 col2\" >Naypyitaw</td>\n",
       "      <td id=\"T_db880_row7_col3\" class=\"data row7 col3\" >Normal</td>\n",
       "      <td id=\"T_db880_row7_col4\" class=\"data row7 col4\" >Female</td>\n",
       "      <td id=\"T_db880_row7_col5\" class=\"data row7 col5\" >Home and lifestyle</td>\n",
       "      <td id=\"T_db880_row7_col6\" class=\"data row7 col6\" >73.560000</td>\n",
       "      <td id=\"T_db880_row7_col7\" class=\"data row7 col7\" >10</td>\n",
       "      <td id=\"T_db880_row7_col8\" class=\"data row7 col8\" >36.780000</td>\n",
       "      <td id=\"T_db880_row7_col9\" class=\"data row7 col9\" >772.380000</td>\n",
       "      <td id=\"T_db880_row7_col10\" class=\"data row7 col10\" >2/24/2019</td>\n",
       "      <td id=\"T_db880_row7_col11\" class=\"data row7 col11\" >11:38</td>\n",
       "      <td id=\"T_db880_row7_col12\" class=\"data row7 col12\" >Ewallet</td>\n",
       "      <td id=\"T_db880_row7_col13\" class=\"data row7 col13\" >735.600000</td>\n",
       "      <td id=\"T_db880_row7_col14\" class=\"data row7 col14\" >4.761905</td>\n",
       "      <td id=\"T_db880_row7_col15\" class=\"data row7 col15\" >36.780000</td>\n",
       "      <td id=\"T_db880_row7_col16\" class=\"data row7 col16\" >8.000000</td>\n",
       "    </tr>\n",
       "    <tr>\n",
       "      <th id=\"T_db880_level0_row8\" class=\"row_heading level0 row8\" >8</th>\n",
       "      <td id=\"T_db880_row8_col0\" class=\"data row8 col0\" >665-32-9167</td>\n",
       "      <td id=\"T_db880_row8_col1\" class=\"data row8 col1\" >A</td>\n",
       "      <td id=\"T_db880_row8_col2\" class=\"data row8 col2\" >Yangon</td>\n",
       "      <td id=\"T_db880_row8_col3\" class=\"data row8 col3\" >Member</td>\n",
       "      <td id=\"T_db880_row8_col4\" class=\"data row8 col4\" >Female</td>\n",
       "      <td id=\"T_db880_row8_col5\" class=\"data row8 col5\" >Health and beauty</td>\n",
       "      <td id=\"T_db880_row8_col6\" class=\"data row8 col6\" >36.260000</td>\n",
       "      <td id=\"T_db880_row8_col7\" class=\"data row8 col7\" >2</td>\n",
       "      <td id=\"T_db880_row8_col8\" class=\"data row8 col8\" >3.626000</td>\n",
       "      <td id=\"T_db880_row8_col9\" class=\"data row8 col9\" >76.146000</td>\n",
       "      <td id=\"T_db880_row8_col10\" class=\"data row8 col10\" >1/10/2019</td>\n",
       "      <td id=\"T_db880_row8_col11\" class=\"data row8 col11\" >17:15</td>\n",
       "      <td id=\"T_db880_row8_col12\" class=\"data row8 col12\" >Credit card</td>\n",
       "      <td id=\"T_db880_row8_col13\" class=\"data row8 col13\" >72.520000</td>\n",
       "      <td id=\"T_db880_row8_col14\" class=\"data row8 col14\" >4.761905</td>\n",
       "      <td id=\"T_db880_row8_col15\" class=\"data row8 col15\" >3.626000</td>\n",
       "      <td id=\"T_db880_row8_col16\" class=\"data row8 col16\" >7.200000</td>\n",
       "    </tr>\n",
       "    <tr>\n",
       "      <th id=\"T_db880_level0_row9\" class=\"row_heading level0 row9\" >9</th>\n",
       "      <td id=\"T_db880_row9_col0\" class=\"data row9 col0\" >692-92-5582</td>\n",
       "      <td id=\"T_db880_row9_col1\" class=\"data row9 col1\" >B</td>\n",
       "      <td id=\"T_db880_row9_col2\" class=\"data row9 col2\" >Mandalay</td>\n",
       "      <td id=\"T_db880_row9_col3\" class=\"data row9 col3\" >Member</td>\n",
       "      <td id=\"T_db880_row9_col4\" class=\"data row9 col4\" >Female</td>\n",
       "      <td id=\"T_db880_row9_col5\" class=\"data row9 col5\" >Food and beverages</td>\n",
       "      <td id=\"T_db880_row9_col6\" class=\"data row9 col6\" >54.840000</td>\n",
       "      <td id=\"T_db880_row9_col7\" class=\"data row9 col7\" >3</td>\n",
       "      <td id=\"T_db880_row9_col8\" class=\"data row9 col8\" >8.226000</td>\n",
       "      <td id=\"T_db880_row9_col9\" class=\"data row9 col9\" >172.746000</td>\n",
       "      <td id=\"T_db880_row9_col10\" class=\"data row9 col10\" >2/20/2019</td>\n",
       "      <td id=\"T_db880_row9_col11\" class=\"data row9 col11\" >13:27</td>\n",
       "      <td id=\"T_db880_row9_col12\" class=\"data row9 col12\" >Credit card</td>\n",
       "      <td id=\"T_db880_row9_col13\" class=\"data row9 col13\" >164.520000</td>\n",
       "      <td id=\"T_db880_row9_col14\" class=\"data row9 col14\" >4.761905</td>\n",
       "      <td id=\"T_db880_row9_col15\" class=\"data row9 col15\" >8.226000</td>\n",
       "      <td id=\"T_db880_row9_col16\" class=\"data row9 col16\" >5.900000</td>\n",
       "    </tr>\n",
       "  </tbody>\n",
       "</table>\n"
      ],
      "text/plain": [
       "<pandas.io.formats.style.Styler at 0x1997482e430>"
      ]
     },
     "execution_count": 3,
     "metadata": {},
     "output_type": "execute_result"
    }
   ],
   "source": [
    "supermarket_df.head(10).style.background_gradient(cmap='GnBu')"
   ]
  },
  {
   "cell_type": "markdown",
   "id": "a6787a01",
   "metadata": {},
   "source": [
    "Data Preprocessing"
   ]
  },
  {
   "cell_type": "code",
   "execution_count": 4,
   "id": "fe571267",
   "metadata": {},
   "outputs": [
    {
     "name": "stdout",
     "output_type": "stream",
     "text": [
      "The dataset contains 1000 rows and 17 columns\n"
     ]
    }
   ],
   "source": [
    "shape=supermarket_df.shape\n",
    "print(f'The dataset contains {shape[0]} rows and {shape[1]} columns')"
   ]
  },
  {
   "cell_type": "code",
   "execution_count": 5,
   "id": "69d8d4c4",
   "metadata": {},
   "outputs": [
    {
     "data": {
      "text/plain": [
       "Index(['Invoice ID', 'Branch', 'City', 'Customer type', 'Gender',\n",
       "       'Product line', 'Unit price', 'Quantity', 'Tax 5%', 'Total', 'Date',\n",
       "       'Time', 'Payment', 'cogs', 'gross margin percentage', 'gross income',\n",
       "       'Rating'],\n",
       "      dtype='object')"
      ]
     },
     "execution_count": 5,
     "metadata": {},
     "output_type": "execute_result"
    }
   ],
   "source": [
    "# Display the number of parameters\n",
    "supermarket_df.columns"
   ]
  },
  {
   "cell_type": "code",
   "execution_count": 7,
   "id": "3130ad02",
   "metadata": {},
   "outputs": [
    {
     "data": {
      "text/plain": [
       "Invoice ID                 0\n",
       "Branch                     0\n",
       "City                       0\n",
       "Customer type              0\n",
       "Gender                     0\n",
       "Product line               0\n",
       "Unit price                 0\n",
       "Quantity                   0\n",
       "Tax 5%                     0\n",
       "Total                      0\n",
       "Date                       0\n",
       "Time                       0\n",
       "Payment                    0\n",
       "cogs                       0\n",
       "gross margin percentage    0\n",
       "gross income               0\n",
       "Rating                     0\n",
       "dtype: int64"
      ]
     },
     "execution_count": 7,
     "metadata": {},
     "output_type": "execute_result"
    }
   ],
   "source": [
    "#Chech the Nan values\n",
    "supermarket_df.isna().sum()"
   ]
  },
  {
   "cell_type": "code",
   "execution_count": 8,
   "id": "bcbf32ee",
   "metadata": {},
   "outputs": [
    {
     "data": {
      "image/png": "[encoded data removed]",
      "text/plain": [
       "<Figure size 1800x720 with 2 Axes>"
      ]
     },
     "metadata": {
      "needs_background": "light"
     },
     "output_type": "display_data"
    }
   ],
   "source": [
    "#Visualize the nan values in each columns\n",
    "msno.matrix(supermarket_df);"
   ]
  },
  {
   "cell_type": "code",
   "execution_count": 9,
   "id": "7278f8e7",
   "metadata": {},
   "outputs": [
    {
     "name": "stdout",
     "output_type": "stream",
     "text": [
      "<class 'pandas.core.frame.DataFrame'>\n",
      "RangeIndex: 1000 entries, 0 to 999\n",
      "Data columns (total 17 columns):\n",
      " #   Column                   Non-Null Count  Dtype  \n",
      "---  ------                   --------------  -----  \n",
      " 0   Invoice ID               1000 non-null   object \n",
      " 1   Branch                   1000 non-null   object \n",
      " 2   City                     1000 non-null   object \n",
      " 3   Customer type            1000 non-null   object \n",
      " 4   Gender                   1000 non-null   object \n",
      " 5   Product line             1000 non-null   object \n",
      " 6   Unit price               1000 non-null   float64\n",
      " 7   Quantity                 1000 non-null   int64  \n",
      " 8   Tax 5%                   1000 non-null   float64\n",
      " 9   Total                    1000 non-null   float64\n",
      " 10  Date                     1000 non-null   object \n",
      " 11  Time                     1000 non-null   object \n",
      " 12  Payment                  1000 non-null   object \n",
      " 13  cogs                     1000 non-null   float64\n",
      " 14  gross margin percentage  1000 non-null   float64\n",
      " 15  gross income             1000 non-null   float64\n",
      " 16  Rating                   1000 non-null   float64\n",
      "dtypes: float64(7), int64(1), object(9)\n",
      "memory usage: 132.9+ KB\n"
     ]
    }
   ],
   "source": [
    "#Check the dype of each columns\n",
    "supermarket_df.info()"
   ]
  },
  {
   "cell_type": "markdown",
   "id": "f4afb0b8",
   "metadata": {},
   "source": [
    "Convert the date and time columns into date/time dtypes"
   ]
  },
  {
   "cell_type": "code",
   "execution_count": 10,
   "id": "bbb90601",
   "metadata": {},
   "outputs": [],
   "source": [
    "# modified_df=supermarket_df.copy()\n",
    "\n",
    "# Convert date columns into date time \n",
    "supermarket_df.Date = pd.to_datetime(supermarket_df.Date)\n",
    "#Add a month,day and weekday columns\n",
    "supermarket_df['month']=supermarket_df.Date.dt.month\n",
    "supermarket_df['day']=supermarket_df.Date.dt.day\n",
    "supermarket_df['weekday']=supermarket_df.Date.dt.day_name()\n",
    "#Add a hour and minute columns \n",
    "supermarket_df['hour']=supermarket_df.Time.str[0:2]\n",
    "supermarket_df['minute']=supermarket_df.Time.str[3:5]\n",
    "#Make it int values\n",
    "supermarket_df['hour']=pd.to_numeric(supermarket_df['hour'])\n",
    "supermarket_df['minute']=pd.to_numeric(supermarket_df['minute'])"
   ]
  },
  {
   "cell_type": "code",
   "execution_count": 11,
   "id": "21dad474",
   "metadata": {},
   "outputs": [
    {
     "data": {
      "text/plain": [
       "Invoice ID                         object\n",
       "Branch                             object\n",
       "City                               object\n",
       "Customer type                      object\n",
       "Gender                             object\n",
       "Product line                       object\n",
       "Unit price                        float64\n",
       "Quantity                            int64\n",
       "Tax 5%                            float64\n",
       "Total                             float64\n",
       "Date                       datetime64[ns]\n",
       "Time                               object\n",
       "Payment                            object\n",
       "cogs                              float64\n",
       "gross margin percentage           float64\n",
       "gross income                      float64\n",
       "Rating                            float64\n",
       "month                               int64\n",
       "day                                 int64\n",
       "weekday                            object\n",
       "hour                                int64\n",
       "minute                              int64\n",
       "dtype: object"
      ]
     },
     "execution_count": 11,
     "metadata": {},
     "output_type": "execute_result"
    }
   ],
   "source": [
    "supermarket_df.dtypes"
   ]
  },
  {
   "cell_type": "code",
   "execution_count": 12,
   "id": "6888b6a0",
   "metadata": {},
   "outputs": [
    {
     "data": {
      "text/html": [
       "<style type=\"text/css\">\n",
       "#T_d92fd_row0_col0, #T_d92fd_row0_col1, #T_d92fd_row0_col2, #T_d92fd_row0_col4, #T_d92fd_row0_col5, #T_d92fd_row0_col6, #T_d92fd_row0_col7, #T_d92fd_row0_col8, #T_d92fd_row0_col9, #T_d92fd_row0_col10, #T_d92fd_row0_col11, #T_d92fd_row7_col3 {\n",
       "  background-color: #4d004b;\n",
       "  color: #f1f1f1;\n",
       "}\n",
       "#T_d92fd_row0_col3 {\n",
       "  background-color: #5d055a;\n",
       "  color: #f1f1f1;\n",
       "}\n",
       "#T_d92fd_row1_col0, #T_d92fd_row5_col0, #T_d92fd_row6_col11 {\n",
       "  background-color: #eff6fa;\n",
       "  color: #000000;\n",
       "}\n",
       "#T_d92fd_row1_col1, #T_d92fd_row1_col5, #T_d92fd_row1_col7, #T_d92fd_row2_col9, #T_d92fd_row3_col5, #T_d92fd_row3_col10, #T_d92fd_row4_col2, #T_d92fd_row4_col5, #T_d92fd_row4_col6, #T_d92fd_row4_col9, #T_d92fd_row5_col1, #T_d92fd_row5_col5, #T_d92fd_row5_col7, #T_d92fd_row6_col1, #T_d92fd_row6_col5, #T_d92fd_row6_col7, #T_d92fd_row7_col5 {\n",
       "  background-color: #f6fbfd;\n",
       "  color: #000000;\n",
       "}\n",
       "#T_d92fd_row1_col2, #T_d92fd_row1_col6, #T_d92fd_row1_col9, #T_d92fd_row1_col10, #T_d92fd_row5_col9, #T_d92fd_row5_col10, #T_d92fd_row6_col10 {\n",
       "  background-color: #f5fafc;\n",
       "  color: #000000;\n",
       "}\n",
       "#T_d92fd_row1_col3 {\n",
       "  background-color: #b1c9e1;\n",
       "  color: #000000;\n",
       "}\n",
       "#T_d92fd_row1_col4 {\n",
       "  background-color: #b2cae1;\n",
       "  color: #000000;\n",
       "}\n",
       "#T_d92fd_row1_col8, #T_d92fd_row2_col1, #T_d92fd_row2_col5, #T_d92fd_row2_col7, #T_d92fd_row2_col8, #T_d92fd_row2_col10, #T_d92fd_row3_col0, #T_d92fd_row3_col1, #T_d92fd_row3_col2, #T_d92fd_row3_col3, #T_d92fd_row3_col4, #T_d92fd_row3_col6, #T_d92fd_row3_col7, #T_d92fd_row3_col8, #T_d92fd_row3_col9, #T_d92fd_row3_col11, #T_d92fd_row4_col1, #T_d92fd_row4_col7, #T_d92fd_row4_col8, #T_d92fd_row5_col8, #T_d92fd_row6_col8, #T_d92fd_row7_col8 {\n",
       "  background-color: #f7fcfd;\n",
       "  color: #000000;\n",
       "}\n",
       "#T_d92fd_row1_col11, #T_d92fd_row5_col11, #T_d92fd_row7_col9 {\n",
       "  background-color: #f2f8fb;\n",
       "  color: #000000;\n",
       "}\n",
       "#T_d92fd_row2_col0, #T_d92fd_row2_col11, #T_d92fd_row4_col11, #T_d92fd_row7_col10 {\n",
       "  background-color: #f4fafc;\n",
       "  color: #000000;\n",
       "}\n",
       "#T_d92fd_row2_col2, #T_d92fd_row2_col6, #T_d92fd_row4_col10, #T_d92fd_row5_col2, #T_d92fd_row5_col6, #T_d92fd_row7_col1, #T_d92fd_row7_col7 {\n",
       "  background-color: #f6fbfc;\n",
       "  color: #000000;\n",
       "}\n",
       "#T_d92fd_row2_col3 {\n",
       "  background-color: #c5d8e9;\n",
       "  color: #000000;\n",
       "}\n",
       "#T_d92fd_row2_col4 {\n",
       "  background-color: #c6d8e9;\n",
       "  color: #000000;\n",
       "}\n",
       "#T_d92fd_row4_col0, #T_d92fd_row6_col2, #T_d92fd_row6_col6, #T_d92fd_row6_col9 {\n",
       "  background-color: #f3f9fc;\n",
       "  color: #000000;\n",
       "}\n",
       "#T_d92fd_row4_col3, #T_d92fd_row4_col4 {\n",
       "  background-color: #e3eef5;\n",
       "  color: #000000;\n",
       "}\n",
       "#T_d92fd_row5_col3 {\n",
       "  background-color: #c3d6e8;\n",
       "  color: #000000;\n",
       "}\n",
       "#T_d92fd_row5_col4 {\n",
       "  background-color: #c4d7e8;\n",
       "  color: #000000;\n",
       "}\n",
       "#T_d92fd_row6_col0 {\n",
       "  background-color: #ebf3f8;\n",
       "  color: #000000;\n",
       "}\n",
       "#T_d92fd_row6_col3 {\n",
       "  background-color: #94a6ce;\n",
       "  color: #f1f1f1;\n",
       "}\n",
       "#T_d92fd_row6_col4 {\n",
       "  background-color: #94a7cf;\n",
       "  color: #f1f1f1;\n",
       "}\n",
       "#T_d92fd_row7_col0 {\n",
       "  background-color: #e6f0f7;\n",
       "  color: #000000;\n",
       "}\n",
       "#T_d92fd_row7_col2, #T_d92fd_row7_col6 {\n",
       "  background-color: #eef6fa;\n",
       "  color: #000000;\n",
       "}\n",
       "#T_d92fd_row7_col4 {\n",
       "  background-color: #4f004d;\n",
       "  color: #f1f1f1;\n",
       "}\n",
       "#T_d92fd_row7_col11 {\n",
       "  background-color: #ecf4f9;\n",
       "  color: #000000;\n",
       "}\n",
       "</style>\n",
       "<table id=\"T_d92fd\">\n",
       "  <thead>\n",
       "    <tr>\n",
       "      <th class=\"blank level0\" >&nbsp;</th>\n",
       "      <th id=\"T_d92fd_level0_col0\" class=\"col_heading level0 col0\" >Unit price</th>\n",
       "      <th id=\"T_d92fd_level0_col1\" class=\"col_heading level0 col1\" >Quantity</th>\n",
       "      <th id=\"T_d92fd_level0_col2\" class=\"col_heading level0 col2\" >Tax 5%</th>\n",
       "      <th id=\"T_d92fd_level0_col3\" class=\"col_heading level0 col3\" >Total</th>\n",
       "      <th id=\"T_d92fd_level0_col4\" class=\"col_heading level0 col4\" >cogs</th>\n",
       "      <th id=\"T_d92fd_level0_col5\" class=\"col_heading level0 col5\" >gross margin percentage</th>\n",
       "      <th id=\"T_d92fd_level0_col6\" class=\"col_heading level0 col6\" >gross income</th>\n",
       "      <th id=\"T_d92fd_level0_col7\" class=\"col_heading level0 col7\" >Rating</th>\n",
       "      <th id=\"T_d92fd_level0_col8\" class=\"col_heading level0 col8\" >month</th>\n",
       "      <th id=\"T_d92fd_level0_col9\" class=\"col_heading level0 col9\" >day</th>\n",
       "      <th id=\"T_d92fd_level0_col10\" class=\"col_heading level0 col10\" >hour</th>\n",
       "      <th id=\"T_d92fd_level0_col11\" class=\"col_heading level0 col11\" >minute</th>\n",
       "    </tr>\n",
       "  </thead>\n",
       "  <tbody>\n",
       "    <tr>\n",
       "      <th id=\"T_d92fd_level0_row0\" class=\"row_heading level0 row0\" >count</th>\n",
       "      <td id=\"T_d92fd_row0_col0\" class=\"data row0 col0\" >1000.000000</td>\n",
       "      <td id=\"T_d92fd_row0_col1\" class=\"data row0 col1\" >1000.000000</td>\n",
       "      <td id=\"T_d92fd_row0_col2\" class=\"data row0 col2\" >1000.000000</td>\n",
       "      <td id=\"T_d92fd_row0_col3\" class=\"data row0 col3\" >1000.000000</td>\n",
       "      <td id=\"T_d92fd_row0_col4\" class=\"data row0 col4\" >1000.000000</td>\n",
       "      <td id=\"T_d92fd_row0_col5\" class=\"data row0 col5\" >1000.000000</td>\n",
       "      <td id=\"T_d92fd_row0_col6\" class=\"data row0 col6\" >1000.000000</td>\n",
       "      <td id=\"T_d92fd_row0_col7\" class=\"data row0 col7\" >1000.000000</td>\n",
       "      <td id=\"T_d92fd_row0_col8\" class=\"data row0 col8\" >1000.000000</td>\n",
       "      <td id=\"T_d92fd_row0_col9\" class=\"data row0 col9\" >1000.000000</td>\n",
       "      <td id=\"T_d92fd_row0_col10\" class=\"data row0 col10\" >1000.000000</td>\n",
       "      <td id=\"T_d92fd_row0_col11\" class=\"data row0 col11\" >1000.000000</td>\n",
       "    </tr>\n",
       "    <tr>\n",
       "      <th id=\"T_d92fd_level0_row1\" class=\"row_heading level0 row1\" >mean</th>\n",
       "      <td id=\"T_d92fd_row1_col0\" class=\"data row1 col0\" >55.672130</td>\n",
       "      <td id=\"T_d92fd_row1_col1\" class=\"data row1 col1\" >5.510000</td>\n",
       "      <td id=\"T_d92fd_row1_col2\" class=\"data row1 col2\" >15.379369</td>\n",
       "      <td id=\"T_d92fd_row1_col3\" class=\"data row1 col3\" >322.966749</td>\n",
       "      <td id=\"T_d92fd_row1_col4\" class=\"data row1 col4\" >307.587380</td>\n",
       "      <td id=\"T_d92fd_row1_col5\" class=\"data row1 col5\" >4.761905</td>\n",
       "      <td id=\"T_d92fd_row1_col6\" class=\"data row1 col6\" >15.379369</td>\n",
       "      <td id=\"T_d92fd_row1_col7\" class=\"data row1 col7\" >6.972700</td>\n",
       "      <td id=\"T_d92fd_row1_col8\" class=\"data row1 col8\" >1.993000</td>\n",
       "      <td id=\"T_d92fd_row1_col9\" class=\"data row1 col9\" >15.256000</td>\n",
       "      <td id=\"T_d92fd_row1_col10\" class=\"data row1 col10\" >14.910000</td>\n",
       "      <td id=\"T_d92fd_row1_col11\" class=\"data row1 col11\" >30.098000</td>\n",
       "    </tr>\n",
       "    <tr>\n",
       "      <th id=\"T_d92fd_level0_row2\" class=\"row_heading level0 row2\" >std</th>\n",
       "      <td id=\"T_d92fd_row2_col0\" class=\"data row2 col0\" >26.494628</td>\n",
       "      <td id=\"T_d92fd_row2_col1\" class=\"data row2 col1\" >2.923431</td>\n",
       "      <td id=\"T_d92fd_row2_col2\" class=\"data row2 col2\" >11.708825</td>\n",
       "      <td id=\"T_d92fd_row2_col3\" class=\"data row2 col3\" >245.885335</td>\n",
       "      <td id=\"T_d92fd_row2_col4\" class=\"data row2 col4\" >234.176510</td>\n",
       "      <td id=\"T_d92fd_row2_col5\" class=\"data row2 col5\" >0.000000</td>\n",
       "      <td id=\"T_d92fd_row2_col6\" class=\"data row2 col6\" >11.708825</td>\n",
       "      <td id=\"T_d92fd_row2_col7\" class=\"data row2 col7\" >1.718580</td>\n",
       "      <td id=\"T_d92fd_row2_col8\" class=\"data row2 col8\" >0.835254</td>\n",
       "      <td id=\"T_d92fd_row2_col9\" class=\"data row2 col9\" >8.693563</td>\n",
       "      <td id=\"T_d92fd_row2_col10\" class=\"data row2 col10\" >3.186857</td>\n",
       "      <td id=\"T_d92fd_row2_col11\" class=\"data row2 col11\" >16.880680</td>\n",
       "    </tr>\n",
       "    <tr>\n",
       "      <th id=\"T_d92fd_level0_row3\" class=\"row_heading level0 row3\" >min</th>\n",
       "      <td id=\"T_d92fd_row3_col0\" class=\"data row3 col0\" >10.080000</td>\n",
       "      <td id=\"T_d92fd_row3_col1\" class=\"data row3 col1\" >1.000000</td>\n",
       "      <td id=\"T_d92fd_row3_col2\" class=\"data row3 col2\" >0.508500</td>\n",
       "      <td id=\"T_d92fd_row3_col3\" class=\"data row3 col3\" >10.678500</td>\n",
       "      <td id=\"T_d92fd_row3_col4\" class=\"data row3 col4\" >10.170000</td>\n",
       "      <td id=\"T_d92fd_row3_col5\" class=\"data row3 col5\" >4.761905</td>\n",
       "      <td id=\"T_d92fd_row3_col6\" class=\"data row3 col6\" >0.508500</td>\n",
       "      <td id=\"T_d92fd_row3_col7\" class=\"data row3 col7\" >4.000000</td>\n",
       "      <td id=\"T_d92fd_row3_col8\" class=\"data row3 col8\" >1.000000</td>\n",
       "      <td id=\"T_d92fd_row3_col9\" class=\"data row3 col9\" >1.000000</td>\n",
       "      <td id=\"T_d92fd_row3_col10\" class=\"data row3 col10\" >10.000000</td>\n",
       "      <td id=\"T_d92fd_row3_col11\" class=\"data row3 col11\" >0.000000</td>\n",
       "    </tr>\n",
       "    <tr>\n",
       "      <th id=\"T_d92fd_level0_row4\" class=\"row_heading level0 row4\" >25%</th>\n",
       "      <td id=\"T_d92fd_row4_col0\" class=\"data row4 col0\" >32.875000</td>\n",
       "      <td id=\"T_d92fd_row4_col1\" class=\"data row4 col1\" >3.000000</td>\n",
       "      <td id=\"T_d92fd_row4_col2\" class=\"data row4 col2\" >5.924875</td>\n",
       "      <td id=\"T_d92fd_row4_col3\" class=\"data row4 col3\" >124.422375</td>\n",
       "      <td id=\"T_d92fd_row4_col4\" class=\"data row4 col4\" >118.497500</td>\n",
       "      <td id=\"T_d92fd_row4_col5\" class=\"data row4 col5\" >4.761905</td>\n",
       "      <td id=\"T_d92fd_row4_col6\" class=\"data row4 col6\" >5.924875</td>\n",
       "      <td id=\"T_d92fd_row4_col7\" class=\"data row4 col7\" >5.500000</td>\n",
       "      <td id=\"T_d92fd_row4_col8\" class=\"data row4 col8\" >1.000000</td>\n",
       "      <td id=\"T_d92fd_row4_col9\" class=\"data row4 col9\" >8.000000</td>\n",
       "      <td id=\"T_d92fd_row4_col10\" class=\"data row4 col10\" >12.000000</td>\n",
       "      <td id=\"T_d92fd_row4_col11\" class=\"data row4 col11\" >16.000000</td>\n",
       "    </tr>\n",
       "    <tr>\n",
       "      <th id=\"T_d92fd_level0_row5\" class=\"row_heading level0 row5\" >50%</th>\n",
       "      <td id=\"T_d92fd_row5_col0\" class=\"data row5 col0\" >55.230000</td>\n",
       "      <td id=\"T_d92fd_row5_col1\" class=\"data row5 col1\" >5.000000</td>\n",
       "      <td id=\"T_d92fd_row5_col2\" class=\"data row5 col2\" >12.088000</td>\n",
       "      <td id=\"T_d92fd_row5_col3\" class=\"data row5 col3\" >253.848000</td>\n",
       "      <td id=\"T_d92fd_row5_col4\" class=\"data row5 col4\" >241.760000</td>\n",
       "      <td id=\"T_d92fd_row5_col5\" class=\"data row5 col5\" >4.761905</td>\n",
       "      <td id=\"T_d92fd_row5_col6\" class=\"data row5 col6\" >12.088000</td>\n",
       "      <td id=\"T_d92fd_row5_col7\" class=\"data row5 col7\" >7.000000</td>\n",
       "      <td id=\"T_d92fd_row5_col8\" class=\"data row5 col8\" >2.000000</td>\n",
       "      <td id=\"T_d92fd_row5_col9\" class=\"data row5 col9\" >15.000000</td>\n",
       "      <td id=\"T_d92fd_row5_col10\" class=\"data row5 col10\" >15.000000</td>\n",
       "      <td id=\"T_d92fd_row5_col11\" class=\"data row5 col11\" >30.000000</td>\n",
       "    </tr>\n",
       "    <tr>\n",
       "      <th id=\"T_d92fd_level0_row6\" class=\"row_heading level0 row6\" >75%</th>\n",
       "      <td id=\"T_d92fd_row6_col0\" class=\"data row6 col0\" >77.935000</td>\n",
       "      <td id=\"T_d92fd_row6_col1\" class=\"data row6 col1\" >8.000000</td>\n",
       "      <td id=\"T_d92fd_row6_col2\" class=\"data row6 col2\" >22.445250</td>\n",
       "      <td id=\"T_d92fd_row6_col3\" class=\"data row6 col3\" >471.350250</td>\n",
       "      <td id=\"T_d92fd_row6_col4\" class=\"data row6 col4\" >448.905000</td>\n",
       "      <td id=\"T_d92fd_row6_col5\" class=\"data row6 col5\" >4.761905</td>\n",
       "      <td id=\"T_d92fd_row6_col6\" class=\"data row6 col6\" >22.445250</td>\n",
       "      <td id=\"T_d92fd_row6_col7\" class=\"data row6 col7\" >8.500000</td>\n",
       "      <td id=\"T_d92fd_row6_col8\" class=\"data row6 col8\" >3.000000</td>\n",
       "      <td id=\"T_d92fd_row6_col9\" class=\"data row6 col9\" >23.000000</td>\n",
       "      <td id=\"T_d92fd_row6_col10\" class=\"data row6 col10\" >18.000000</td>\n",
       "      <td id=\"T_d92fd_row6_col11\" class=\"data row6 col11\" >44.000000</td>\n",
       "    </tr>\n",
       "    <tr>\n",
       "      <th id=\"T_d92fd_level0_row7\" class=\"row_heading level0 row7\" >max</th>\n",
       "      <td id=\"T_d92fd_row7_col0\" class=\"data row7 col0\" >99.960000</td>\n",
       "      <td id=\"T_d92fd_row7_col1\" class=\"data row7 col1\" >10.000000</td>\n",
       "      <td id=\"T_d92fd_row7_col2\" class=\"data row7 col2\" >49.650000</td>\n",
       "      <td id=\"T_d92fd_row7_col3\" class=\"data row7 col3\" >1042.650000</td>\n",
       "      <td id=\"T_d92fd_row7_col4\" class=\"data row7 col4\" >993.000000</td>\n",
       "      <td id=\"T_d92fd_row7_col5\" class=\"data row7 col5\" >4.761905</td>\n",
       "      <td id=\"T_d92fd_row7_col6\" class=\"data row7 col6\" >49.650000</td>\n",
       "      <td id=\"T_d92fd_row7_col7\" class=\"data row7 col7\" >10.000000</td>\n",
       "      <td id=\"T_d92fd_row7_col8\" class=\"data row7 col8\" >3.000000</td>\n",
       "      <td id=\"T_d92fd_row7_col9\" class=\"data row7 col9\" >31.000000</td>\n",
       "      <td id=\"T_d92fd_row7_col10\" class=\"data row7 col10\" >20.000000</td>\n",
       "      <td id=\"T_d92fd_row7_col11\" class=\"data row7 col11\" >59.000000</td>\n",
       "    </tr>\n",
       "  </tbody>\n",
       "</table>\n"
      ],
      "text/plain": [
       "<pandas.io.formats.style.Styler at 0x1997bea4430>"
      ]
     },
     "execution_count": 12,
     "metadata": {},
     "output_type": "execute_result"
    }
   ],
   "source": [
    "supermarket_df.describe().style.background_gradient(cmap='BuPu')"
   ]
  },
  {
   "cell_type": "markdown",
   "id": "4e461ede",
   "metadata": {},
   "source": [
    "#### Exploratory Data Analysis"
   ]
  },
  {
   "cell_type": "code",
   "execution_count": 13,
   "id": "0f164730",
   "metadata": {},
   "outputs": [],
   "source": [
    "#Matplotlib config\n",
    "sns.set_style('darkgrid')\n",
    "\n",
    "matplotlib.rcParams['font.size'] = 12\n",
    "matplotlib.rcParams['figure.figsize'] = (12,9)\n",
    "matplotlib.rcParams['figure.facecolor'] = '#00000000'"
   ]
  },
  {
   "cell_type": "markdown",
   "id": "33b0800d",
   "metadata": {},
   "source": [
    "##### City"
   ]
  },
  {
   "cell_type": "code",
   "execution_count": 14,
   "id": "3c986c59",
   "metadata": {},
   "outputs": [
    {
     "data": {
      "text/plain": [
       "array(['Yangon', 'Naypyitaw', 'Mandalay'], dtype=object)"
      ]
     },
     "execution_count": 14,
     "metadata": {},
     "output_type": "execute_result"
    }
   ],
   "source": [
    "supermarket_df.City.unique()"
   ]
  },
  {
   "cell_type": "code",
   "execution_count": 19,
   "id": "50083e40",
   "metadata": {},
   "outputs": [
    {
     "data": {
      "text/plain": [
       "<Figure size 57600x43200 with 0 Axes>"
      ]
     },
     "metadata": {},
     "output_type": "display_data"
    }
   ],
   "source": [
    "cities = pd.DataFrame({'city': ['Yangon', 'Naypyitaw', 'Mandalay'],\n",
    "                       'Latitude': [16.8409,19.7633,21.9588],\n",
    "                       'Longitude' : [96.1735, 96.0785, 96.0891]})\n",
    "\n",
    "market_map = folium.Map(location = [21.9162,95.9560], zoom_start = 5, tiles = 'CartoDB Positron', control_scale = True)\n",
    "\n",
    "plt.figure(figsize=(800,600));\n",
    "\n",
    "for (i, j) in cities.iterrows():\n",
    "  folium.Marker(location = [j.loc['Latitude'], j.loc['Longitude']], popup = j.loc['city'],tooltip = 'click',\n",
    "                icon = folium.Icon(icon = 'glyphicon-shopping-cart', prefix = 'glyphicon')).add_to(market_map)\n",
    "\n",
    "#market_map - Delete # to see the map "
   ]
  },
  {
   "cell_type": "code",
   "execution_count": 20,
   "id": "7dc4940d",
   "metadata": {},
   "outputs": [
    {
     "data": {
      "image/png": "[encoded data removed]",
      "text/plain": [
       "<Figure size 864x648 with 1 Axes>"
      ]
     },
     "metadata": {
      "needs_background": "light"
     },
     "output_type": "display_data"
    }
   ],
   "source": [
    "# supermarket_df.groupby('City').count()\n",
    "plt.title('Amount of Transaction per City')\n",
    "sns.barplot(x='City',y='Total',data=supermarket_df,hue='Branch');"
   ]
  },
  {
   "cell_type": "code",
   "execution_count": 21,
   "id": "b49b2e24",
   "metadata": {},
   "outputs": [
    {
     "data": {
      "image/png": "[encoded data removed]",
      "text/plain": [
       "<Figure size 864x648 with 1 Axes>"
      ]
     },
     "metadata": {
      "needs_background": "light"
     },
     "output_type": "display_data"
    }
   ],
   "source": [
    "#Parameter for plotting \n",
    "sale=supermarket_df.groupby('City').sum()['Total'] #Y-values\n",
    "cities=[city for city, supermarket_df in supermarket_df.groupby('City')] #X-values\n",
    "\n",
    "# Plot\n",
    "plt.bar(cities,sale,color='orange',alpha=.6)\n",
    "plt.xlabel('Cities')\n",
    "plt.ylabel('Sales')\n",
    "plt.title('Highest Sale per city')\n",
    "plt.show()"
   ]
  },
  {
   "cell_type": "markdown",
   "id": "291ec25c",
   "metadata": {},
   "source": [
    "##### Month"
   ]
  },
  {
   "cell_type": "code",
   "execution_count": 22,
   "id": "5aae4970",
   "metadata": {},
   "outputs": [
    {
     "data": {
      "image/png": "[encoded data removed]",
      "text/plain": [
       "<Figure size 864x648 with 1 Axes>"
      ]
     },
     "metadata": {
      "needs_background": "light"
     },
     "output_type": "display_data"
    }
   ],
   "source": [
    "#Parameters for plotting \n",
    "sale=supermarket_df.groupby('month').sum()['Total']\n",
    "month=['January','February','March']\n",
    "c=['b','k','b']\n",
    "#Plot\n",
    "plt.figure(figsize=(12,9))\n",
    "plt.bar(month,sale,color=c)\n",
    "plt.title('Number of Sales per Month')\n",
    "plt.show()\n",
    "# print(sale)"
   ]
  },
  {
   "cell_type": "markdown",
   "id": "2774bc3b",
   "metadata": {},
   "source": [
    "##### Quantity"
   ]
  },
  {
   "cell_type": "code",
   "execution_count": 23,
   "id": "2c718df2",
   "metadata": {},
   "outputs": [
    {
     "data": {
      "image/png": "[encoded data removed]",
      "text/plain": [
       "<Figure size 864x648 with 1 Axes>"
      ]
     },
     "metadata": {
      "needs_background": "light"
     },
     "output_type": "display_data"
    }
   ],
   "source": [
    "#Y-axis\n",
    "quantity=supermarket_df.groupby('month').sum()['Quantity']\n",
    "\n",
    "#Plot\n",
    "plt.title('Quantity of product by Month')\n",
    "plt.bar(month,quantity,color=c)\n",
    "plt.show()"
   ]
  },
  {
   "cell_type": "code",
   "execution_count": 24,
   "id": "0bb31963",
   "metadata": {},
   "outputs": [
    {
     "data": {
      "image/png": "[encoded data removed]",
      "text/plain": [
       "<Figure size 864x648 with 1 Axes>"
      ]
     },
     "metadata": {
      "needs_background": "light"
     },
     "output_type": "display_data"
    }
   ],
   "source": [
    "#Plot an histogram\n",
    "plt.title('Distribution of Products')\n",
    "sns.histplot(supermarket_df.Quantity,alpha=0.5, bins=10);"
   ]
  },
  {
   "cell_type": "markdown",
   "id": "75d77606",
   "metadata": {},
   "source": [
    "#####  Payment"
   ]
  },
  {
   "cell_type": "code",
   "execution_count": 25,
   "id": "c3aa1a8b",
   "metadata": {},
   "outputs": [
    {
     "data": {
      "image/png": "[encoded data removed]",
      "text/plain": [
       "<Figure size 864x432 with 1 Axes>"
      ]
     },
     "metadata": {
      "needs_background": "light"
     },
     "output_type": "display_data"
    }
   ],
   "source": [
    "# Parameters for plotting\n",
    "method=supermarket_df.groupby('Payment').count()['Total']\n",
    "payment=['Cash','Credit card','Ewallet']\n",
    "c=['k','b','r']\n",
    "# Plot \n",
    "plt.figure(figsize=(12,6))\n",
    "plt.bar(payment,method,color=c,alpha=0.8)\n",
    "plt.xlabel('Type of Payment')\n",
    "plt.ylabel('Count')\n",
    "plt.title('Method of Payment')\n",
    "plt.show()"
   ]
  },
  {
   "cell_type": "code",
   "execution_count": 26,
   "id": "768e966c",
   "metadata": {},
   "outputs": [
    {
     "name": "stderr",
     "output_type": "stream",
     "text": [
      "C:\\Users\\Yepco\\anaconda3\\lib\\site-packages\\seaborn\\_decorators.py:36: FutureWarning: Pass the following variables as keyword args: x, y. From version 0.12, the only valid positional argument will be `data`, and passing other arguments without an explicit keyword will result in an error or misinterpretation.\n",
      "  warnings.warn(\n"
     ]
    },
    {
     "data": {
      "image/png": "[encoded data removed]",
      "text/plain": [
       "<Figure size 864x648 with 1 Axes>"
      ]
     },
     "metadata": {
      "needs_background": "light"
     },
     "output_type": "display_data"
    }
   ],
   "source": [
    "plt.title('Rating Distribution by Branch')\n",
    "sns.violinplot('Branch','Rating',data=supermarket_df);"
   ]
  }
 ],
 "metadata": {
  "kernelspec": {
   "display_name": "Python 3 (ipykernel)",
   "language": "python",
   "name": "python3"
  },
  "language_info": {
   "codemirror_mode": {
    "name": "ipython",
    "version": 3
   },
   "file_extension": ".py",
   "mimetype": "text/x-python",
   "name": "python",
   "nbconvert_exporter": "python",
   "pygments_lexer": "ipython3",
   "version": "3.9.12"
  }
 },
 "nbformat": 4,
 "nbformat_minor": 5
}
