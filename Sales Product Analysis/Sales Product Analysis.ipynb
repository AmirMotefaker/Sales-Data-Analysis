{
 "cells": [
  {
   "cell_type": "markdown",
   "id": "f158fc6a",
   "metadata": {},
   "source": [
    "Sales Product Analysis"
   ]
  },
  {
   "cell_type": "code",
   "execution_count": 1,
   "id": "45dd42b0",
   "metadata": {},
   "outputs": [],
   "source": [
    "import pandas as pd\n",
    "import os\n",
    "import numpy as np\n",
    "import seaborn as sns\n",
    "import warnings\n",
    "from matplotlib import pylab as plt\n",
    "from statsmodels.graphics.gofplots import qqplot\n",
    "from IPython.core.interactiveshell import InteractiveShell"
   ]
  },
  {
   "cell_type": "code",
   "execution_count": 2,
   "id": "d8f1d37c",
   "metadata": {},
   "outputs": [
    {
     "name": "stdout",
     "output_type": "stream",
     "text": [
      "setup-complete!\n"
     ]
    }
   ],
   "source": [
    "warnings.simplefilter(action=\"ignore\", category=FutureWarning)\n",
    "warnings.simplefilter(action=\"ignore\", category=Warning)\n",
    "InteractiveShell.ast_node_interactivity = 'all'\n",
    "\n",
    "%reload_ext autoreload\n",
    "%autoreload 2\n",
    "%matplotlib inline\n",
    "\n",
    "def set_seed(seed=42):\n",
    "    np.random.seed(seed)\n",
    "    os.environ[\"PYTHONHASHSEED\"] = str(seed)\n",
    "set_seed()\n",
    "\n",
    "sns.set_style('whitegrid')\n",
    "sns.set_context('paper', font_scale=1.5)\n",
    "\n",
    "pd.set_option(\"display.width\", 100)\n",
    "pd.set_option(\"display.max_columns\", 50)\n",
    "pd.set_option(\"display.max_rows\", 30)\n",
    "\n",
    "plt.style.use('fivethirtyeight')\n",
    "plt.rcParams[\"axes.grid\"] = True\n",
    "plt.rcParams[\"grid.alpha\"] = 0.5\n",
    "plt.rcParams[\"grid.linestyle\"] = '--'\n",
    "plt.rcParams[\"font.family\"] = \"monospace\"\n",
    "plt.rcParams[\"axes.facecolor\"] = \"white\"\n",
    "plt.rcParams['axes.edgecolor'] = 'black'\n",
    "plt.rcParams['figure.frameon'] = True\n",
    "plt.rcParams['axes.spines.left'] = True\n",
    "plt.rcParams['axes.spines.bottom'] = True\n",
    "plt.rcParams['axes.spines.top'] = False\n",
    "plt.rcParams['axes.spines.right'] = False\n",
    "plt.rcParams['axes.linewidth'] = 1.5\n",
    "\n",
    "print(\"setup-complete!\")"
   ]
  },
  {
   "cell_type": "markdown",
   "id": "fc42a354",
   "metadata": {},
   "source": [
    "Merge the 12 months of sales data into a single CSV file"
   ]
  },
  {
   "cell_type": "code",
   "execution_count": 6,
   "id": "c3e37b9a",
   "metadata": {},
   "outputs": [],
   "source": [
    "# let's make a list compreension for all the data in the folder\n",
    "files = [file for file in os.listdir('E:/AMotefaker/ABC/Data Analyst/Sales Data Analysis/Sales Product Analysis/DataSet/')] \n",
    "# let's make a pandas DataFrame\n",
    "all_months_data = pd.DataFrame()\n",
    "# makes a loop for concat the data\n",
    "for file in files:\n",
    "    data = pd.read_csv(\"E:/AMotefaker/ABC/Data Analyst/Sales Data Analysis/Sales Product Analysis/DataSet/\" + file)\n",
    "    all_months_data = pd.concat([all_months_data, data])\n",
    "# export all data to csv    \n",
    "all_months_data.to_csv(\"E:/AMotefaker/ABC/Data Analyst/Sales Data Analysis/Sales Product Analysis/all_data.csv\", index=False)"
   ]
  }
 ],
 "metadata": {
  "kernelspec": {
   "display_name": "Python 3 (ipykernel)",
   "language": "python",
   "name": "python3"
  },
  "language_info": {
   "codemirror_mode": {
    "name": "ipython",
    "version": 3
   },
   "file_extension": ".py",
   "mimetype": "text/x-python",
   "name": "python",
   "nbconvert_exporter": "python",
   "pygments_lexer": "ipython3",
   "version": "3.9.12"
  }
 },
 "nbformat": 4,
 "nbformat_minor": 5
}
